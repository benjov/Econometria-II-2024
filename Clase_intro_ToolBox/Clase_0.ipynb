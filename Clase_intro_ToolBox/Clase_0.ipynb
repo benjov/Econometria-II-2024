{
 "cells": [
  {
   "cell_type": "markdown",
   "metadata": {
    "id": "V1y9DBsUULra"
   },
   "source": [
    "# Clase 0: Introducción a Python con Jupyter Notebook\n",
    "\n",
    "by Benjamín Oliva & Omar Alfaro"
   ]
  },
  {
   "cell_type": "markdown",
   "metadata": {
    "id": "gqeW2oDCULrb"
   },
   "source": [
    "## Opciones para tomar este curso"
   ]
  },
  {
   "cell_type": "markdown",
   "metadata": {
    "id": "GxUmoIPUULrc"
   },
   "source": [
    "Como se ha discutido previamente, para fines de este curso centraremos nuestros ejemplos prácticos en el uso de _python_. Actualemnte existen diferentes y muy variados ambientes de trabajo para utilizar _notebooks_, nuestra recomendación se centra en el uso de _anaconda_ y/o _google colab_. Sin embargo, si el alumno conoce previamente otro framework en el cual se sienta más cómodo trabajando, es libre de utilizarlo; tomando en cuenta que los trabajos finales idealmente serán entregados en notebooks de python. En caso de  preferir anaconda es necesario utilizar [este manual](https://drive.google.com/file/d/1TSaPYLA-x5olHz27CB8gY6mqtpqzoaP5/view?usp=sharing) donde se explica paso a paso como instalar."
   ]
  },
  {
   "cell_type": "markdown",
   "metadata": {
    "id": "SdzUxZ9CULrc"
   },
   "source": [
    "### I. Muy breve introducción a __Google Colab__"
   ]
  },
  {
   "cell_type": "markdown",
   "metadata": {
    "id": "lgtVIavtULrc"
   },
   "source": [
    "Colab nos permite trabajar compilar código de _python_ sin la necesidad de realizar instalaciones en el entorno local de la máquina. Es suficiente contar con una cuenta de google y usar esta misma para trabajar en nuestros notebooks. Es recomendable esta opción cuando la computadora personal se pudiera ver limitada por sus capacidades de cálculo. Aparte, tiene la bondad de alojar los notebooks de trabajo en la cuenta de Google Drive personal."
   ]
  },
  {
   "cell_type": "markdown",
   "metadata": {
    "id": "qi7jGMaEULrc"
   },
   "source": [
    "Para visualizar los notebooks en colab, basta con seguir estos pasos:\n",
    "\n",
    "1.- Agregar [esta extensión](https://chrome.google.com/webstore/detail/open-in-colab/iogfkhleblhcpcekbiedikdehleodpjo)\n",
    "\n",
    "2.- Abrir el notebook en el [github del curso](https://github.com/benjov/Econometria-II-2023)\n",
    "\n",
    "3- Click en la extensión Open in Colab\n",
    "\n",
    "Otra opción es\n",
    "\n",
    "1.- Abrir [colab](https://colab.research.google.com/)\n",
    "\n",
    "2.- Selecccionar Github\n",
    "\n",
    "3.- Pegar la liga del curso y seleccionar la clase en que estaremos trabajando"
   ]
  },
  {
   "cell_type": "markdown",
   "metadata": {
    "id": "iRyAB-eoULrc"
   },
   "source": [
    "### II. Muy breve introducción a git y github\n",
    "\n",
    "Git es un sistema de control de versiones, lo cual en programación es de gran utilidad ya que nos permite guardar la historia de completa de un archivo y poder regresar a una version anterior en el momento que lo necesitemos. Github es la posibilidad de conectar al mundo nuestros proyectos y facilitar el trabajo colaborativo mediante la sintaxis de Git."
   ]
  },
  {
   "cell_type": "markdown",
   "metadata": {
    "id": "y-ZUGWOUULrc"
   },
   "source": [
    "Para los usuarios de Windows es necesario descargar e instalar *[Git](https://git-scm.com/downloads)*. En caso de que utilicen mac es necesario abrir la terminal (\"Control + Option + Shift + T”) y escribir \"*git --version*\"\n"
   ]
  },
  {
   "cell_type": "markdown",
   "metadata": {
    "id": "ngq81edwULrc"
   },
   "source": [
    "![Languages](https://github.com/benjov/Econometria-II-2024/blob/main/Clase_intro_ToolBox/git_flow.png?raw=1)"
   ]
  },
  {
   "cell_type": "markdown",
   "metadata": {
    "id": "oHByoQgBULrd"
   },
   "source": [
    "#### Comandos básicos en la terminal"
   ]
  },
  {
   "cell_type": "markdown",
   "metadata": {
    "id": "_O4DNdmMULrd"
   },
   "source": [
    "* pwd (nos señala la ruta actual de trabajo)\n",
    "* clear (borra el historial de comandos)\n",
    "* ls (list files)\n",
    "* cd (change directory)\n",
    "* mkdir (crea una carpeta con el nombre que se indique)\n",
    "* rm (Borra archivos)"
   ]
  },
  {
   "cell_type": "markdown",
   "metadata": {
    "id": "tCZ7Vhv2ULrd"
   },
   "source": [
    "#### Comandos básicos en Git"
   ]
  },
  {
   "cell_type": "markdown",
   "metadata": {
    "id": "XMNRdfNeULrd"
   },
   "source": [
    "* git config --global user.name \"Pongan su nombre\" <- comando para cambiar el nombre\n",
    "* git config --global user.email \"Pongan su correo\" <- comando para poner el correo electrónico de una cuenta de github\n"
   ]
  },
  {
   "cell_type": "markdown",
   "metadata": {
    "id": "FN7j1lQOULrd"
   },
   "source": [
    "#### Haciendo una copia local del repositorio de la clase"
   ]
  },
  {
   "cell_type": "markdown",
   "metadata": {
    "id": "NRpjs45rULrd"
   },
   "source": [
    "* Paso 1: abrir la terminal o git bash\n",
    "* Paso 2: con _cd_ ir a la carpeta en que queremos copiar el repo de la clase\n",
    "* Paso 3: _git clone_ https://github.com/benjov/Econometria-II-2022"
   ]
  },
  {
   "cell_type": "markdown",
   "metadata": {
    "id": "2sUm5H27ULrd"
   },
   "source": [
    "#### Actualizando el repositorio de la clase"
   ]
  },
  {
   "cell_type": "markdown",
   "metadata": {
    "id": "ZaLmLybOULrd"
   },
   "source": [
    "* Paso 1: abrir la terminal o git bash\n",
    "* Paso 2: con _cd_ ir a la carpeta donde se encuentra el repo clonado\n",
    "* Paso 3: _git pull origin master_"
   ]
  },
  {
   "cell_type": "markdown",
   "metadata": {
    "id": "WC2NWS52ULre"
   },
   "source": [
    "## 1.- Motivación: ¿Por qué aprender python?"
   ]
  },
  {
   "cell_type": "markdown",
   "metadata": {
    "id": "7qOOYXHaULre"
   },
   "source": [
    "![Languages](https://graffersid.com/wp-content/uploads/2022/08/data-from-Statista.png)"
   ]
  },
  {
   "cell_type": "markdown",
   "metadata": {
    "id": "459XWs0tULre"
   },
   "source": [
    "![Popularity](https://github.com/benjov/Econometria-II-2024/blob/main/Clase_intro_ToolBox/languages.png?raw=1)"
   ]
  },
  {
   "cell_type": "markdown",
   "metadata": {
    "id": "luoUFiPIULre"
   },
   "source": [
    "### Cómo las grandes empresas utilizan Python\n",
    "\n",
    "Una buena parte de las posibilidades de trabajo con __python__ se concentran en desarrollo de *IOT*, *IA*, *Backend* y *Data Science*.\n",
    "\n",
    "* [Netflix](https://netflixtechblog.com/python-at-netflix-86b6028b3b3e)\n",
    "* [Uber](https://eng.uber.com/tech-stack-part-one-foundation/)\n",
    "* [Spotify](https://engineering.atspotify.com/2013/03/how-we-use-python-at-spotify/)\n",
    "* [Instagram](https://instagram-engineering.com/web-service-efficiency-at-instagram-with-python-4976d078e366)"
   ]
  },
  {
   "cell_type": "markdown",
   "metadata": {
    "id": "YL9amLJjULre"
   },
   "source": [
    "### Historia de python\n",
    "\n",
    "http://python-history.blogspot.com/2009/01/brief-timeline-of-python.html"
   ]
  },
  {
   "cell_type": "markdown",
   "metadata": {
    "id": "tOGuc-pvULre"
   },
   "source": [
    "## 2.- Introducción a la programación con python"
   ]
  },
  {
   "cell_type": "code",
   "execution_count": null,
   "metadata": {
    "id": "sBN0lgPrULre",
    "outputId": "c0dbcadb-fcec-4977-c761-c30f3a14534a"
   },
   "outputs": [
    {
     "name": "stdout",
     "output_type": "stream",
     "text": [
      "Hello world!\n"
     ]
    }
   ],
   "source": [
    "print(\"Hello world!\")"
   ]
  },
  {
   "cell_type": "markdown",
   "metadata": {
    "id": "jKA6qySjULrf"
   },
   "source": [
    "### Semántica y Sintaxys"
   ]
  },
  {
   "cell_type": "markdown",
   "metadata": {
    "id": "-48DutJsULrf"
   },
   "source": [
    "Los lenguajes de programación contienen ciertas palabras \"clave\" que son fundamentales para escribir instrucciones\n",
    " - and                      - del                    - global                - not                     - with\n",
    " - as                       - elif                   - if                    - or                      - yield\n",
    " - asser                    - else                   - import                - pass                    - False\n",
    " - break                    - except                 - in                    - raise                   - True\n",
    " - class                    - finally                - is                    - return                  - None\n",
    " - continue                 - for                    - lambda                - try\n",
    " - def                      - from                   - nonlocal              - while"
   ]
  },
  {
   "cell_type": "markdown",
   "metadata": {
    "id": "P_zhB29JULrg"
   },
   "source": [
    "Por otro lado también existen las funciones\n",
    "\n",
    "- abs()                     - delattr()              - hash()                - memoryview()            - set()\n",
    "\n",
    "- all()                     - dict()                 - help()                - min()                   - setattr()\n",
    "\n",
    "- any()                     - dir()                  - hex()                 - next()                  - slice()\n",
    "\n",
    "- ascii()                   - divmod()               - id()                  - object()                - sorted()\n",
    "\n",
    "- bin()                     - enumerate()            - input()               - oct()                   - staticmethod()\n",
    "\n",
    "- bool()                    - eval()                 - int()                 - open()                  - str()\n",
    "\n",
    "- breakpoint()              - exec()                 - isinstance()          - ord()                   - sum()\n",
    "\n",
    "- bytearray()               - filter()               - issubclass()          - pow()                   - super()\n",
    "\n",
    "- bytes()                   - float()                - iter()                - print()                 - tuple()\n",
    "\n",
    "- callable()                - format()               - len()                 - property()              - type()\n",
    "\n",
    "- chr()                     - frozenset()            - list()                - range()                 - vars()\n",
    "\n",
    "- classmethod()             - getattr()              - locals()              - repr()                  - zip()\n",
    "\n",
    "- compile()                 - globals()              - map()                 - reversed()              - _ _import_ _()\n",
    "\n",
    "- complex()                  - hasattr()             - max()                 - round()\n",
    "\n"
   ]
  },
  {
   "cell_type": "markdown",
   "metadata": {
    "id": "7xr6dh8wULrg"
   },
   "source": [
    "La combinación _correcta_ de funciones y de palabras clave construyen la lista de instrucciones que queremos que se realicen. Es también importante considerar que Python es _\"sensitive case\"_, lo que significa que en cualquier parte del código la diferenciación entre minusculas y mayúsculas es fundamental."
   ]
  },
  {
   "cell_type": "markdown",
   "metadata": {
    "id": "kvmgXEfaULrg"
   },
   "source": [
    "### Operadores matemáticos"
   ]
  },
  {
   "cell_type": "markdown",
   "metadata": {
    "id": "Wc9lJHUkULrg"
   },
   "source": [
    "* Suma y resta"
   ]
  },
  {
   "cell_type": "code",
   "execution_count": null,
   "metadata": {
    "id": "hemUEybzULrg",
    "outputId": "def53d07-9ce0-4ca4-cc84-0764a8fd4fae"
   },
   "outputs": [
    {
     "name": "stdout",
     "output_type": "stream",
     "text": [
      "8\n"
     ]
    }
   ],
   "source": [
    "print(5+5-2)"
   ]
  },
  {
   "cell_type": "markdown",
   "metadata": {
    "id": "iL0i6oB8ULrg"
   },
   "source": [
    "* Multiplicación y división"
   ]
  },
  {
   "cell_type": "code",
   "execution_count": null,
   "metadata": {
    "id": "NN4fDSdiULrg",
    "outputId": "b6b5d705-34fa-4d60-f253-3ef861e96f18"
   },
   "outputs": [
    {
     "name": "stdout",
     "output_type": "stream",
     "text": [
      "28.0\n"
     ]
    }
   ],
   "source": [
    "print(7*8/2)"
   ]
  },
  {
   "cell_type": "markdown",
   "metadata": {
    "id": "QTR6mtymULrg"
   },
   "source": [
    "* Potencia"
   ]
  },
  {
   "cell_type": "code",
   "execution_count": null,
   "metadata": {
    "id": "_zyEK8YkULrg",
    "outputId": "5d8aca7a-5d64-4e16-fc18-8838713ae30c"
   },
   "outputs": [
    {
     "name": "stdout",
     "output_type": "stream",
     "text": [
      "55.90169943749474\n"
     ]
    }
   ],
   "source": [
    "print((5**5)**(1/2))"
   ]
  },
  {
   "cell_type": "markdown",
   "metadata": {
    "id": "c-vgZwoNULrg"
   },
   "source": [
    "* La parte entera de una división"
   ]
  },
  {
   "cell_type": "code",
   "execution_count": null,
   "metadata": {
    "id": "XJ1-qmcGULrg",
    "outputId": "080ee022-9e39-4490-a464-9a6ca5470765"
   },
   "outputs": [
    {
     "data": {
      "text/plain": [
       "101"
      ]
     },
     "execution_count": 5,
     "metadata": {},
     "output_type": "execute_result"
    }
   ],
   "source": [
    "509//5"
   ]
  },
  {
   "cell_type": "markdown",
   "metadata": {
    "id": "wgXyEbuQULrg"
   },
   "source": [
    "* La parte residual de una división"
   ]
  },
  {
   "cell_type": "code",
   "execution_count": null,
   "metadata": {
    "id": "2r7Giw9LULrg",
    "outputId": "8c8d920e-3ebd-4109-82de-5595aa3a6e95"
   },
   "outputs": [
    {
     "data": {
      "text/plain": [
       "4"
      ]
     },
     "execution_count": 6,
     "metadata": {},
     "output_type": "execute_result"
    }
   ],
   "source": [
    "509%5"
   ]
  },
  {
   "cell_type": "markdown",
   "metadata": {
    "id": "m1nJFIDPULrh"
   },
   "source": [
    "### Operadores lógicos"
   ]
  },
  {
   "cell_type": "markdown",
   "metadata": {
    "id": "_gu8TtG8ULrh"
   },
   "source": [
    "* Exactamente igual"
   ]
  },
  {
   "cell_type": "code",
   "execution_count": null,
   "metadata": {
    "id": "qVPGfaiSULrh",
    "outputId": "5a97e0dc-10c4-4091-efc1-822f76052b14"
   },
   "outputs": [
    {
     "name": "stdout",
     "output_type": "stream",
     "text": [
      "False\n"
     ]
    }
   ],
   "source": [
    "print(4 == 4.5)"
   ]
  },
  {
   "cell_type": "markdown",
   "metadata": {
    "id": "SQPoWPJgULrh"
   },
   "source": [
    "* Distinto"
   ]
  },
  {
   "cell_type": "code",
   "execution_count": null,
   "metadata": {
    "id": "B106CyImULrh",
    "outputId": "43b79e02-fdfc-4f61-b8a0-0510568f5bab"
   },
   "outputs": [
    {
     "name": "stdout",
     "output_type": "stream",
     "text": [
      "True\n"
     ]
    }
   ],
   "source": [
    "print(4 != 4.5)"
   ]
  },
  {
   "cell_type": "markdown",
   "metadata": {
    "id": "lDwJYnqGULrh"
   },
   "source": [
    "* Mayor/menor o igual que"
   ]
  },
  {
   "cell_type": "code",
   "execution_count": null,
   "metadata": {
    "id": "0mZr5QG7ULrh",
    "outputId": "d03968b6-2e51-4c13-8017-a2f19dc08d61"
   },
   "outputs": [
    {
     "name": "stdout",
     "output_type": "stream",
     "text": [
      "False\n"
     ]
    }
   ],
   "source": [
    "print(4 >= 4.5)"
   ]
  },
  {
   "cell_type": "markdown",
   "metadata": {
    "id": "DWR0oIKvULri"
   },
   "source": [
    "* Menor/mayor que"
   ]
  },
  {
   "cell_type": "code",
   "execution_count": null,
   "metadata": {
    "id": "Mg6E-MUzULri",
    "outputId": "d9fc9686-fdbf-4f4d-ffe5-8186239a8d15"
   },
   "outputs": [
    {
     "name": "stdout",
     "output_type": "stream",
     "text": [
      "False\n"
     ]
    }
   ],
   "source": [
    "print(4<4)"
   ]
  },
  {
   "cell_type": "markdown",
   "metadata": {
    "id": "T6MyfTcuULri"
   },
   "source": [
    "* Union"
   ]
  },
  {
   "cell_type": "code",
   "execution_count": null,
   "metadata": {
    "id": "oH6wBZ1FULri",
    "outputId": "f0ceb13d-c7c2-4530-94c7-6ba84bd830bc"
   },
   "outputs": [
    {
     "name": "stdout",
     "output_type": "stream",
     "text": [
      "True\n"
     ]
    }
   ],
   "source": [
    "print(\"Azul\"!=\"Verde\" or 2+2==5)"
   ]
  },
  {
   "cell_type": "markdown",
   "metadata": {
    "id": "Tmaw3xspULri"
   },
   "source": [
    "* Interseccion"
   ]
  },
  {
   "cell_type": "code",
   "execution_count": null,
   "metadata": {
    "id": "NEt-heQ-ULri",
    "outputId": "deb30572-893d-4c56-f3e6-13b6746fe93f"
   },
   "outputs": [
    {
     "name": "stdout",
     "output_type": "stream",
     "text": [
      "False\n"
     ]
    }
   ],
   "source": [
    "print(\"Azul\"!=\"Verde\" and 2+2==5)"
   ]
  },
  {
   "cell_type": "markdown",
   "metadata": {
    "id": "V78PSmzhULri"
   },
   "source": [
    "* Complemento"
   ]
  },
  {
   "cell_type": "code",
   "execution_count": null,
   "metadata": {
    "id": "B7QyurkuULri",
    "outputId": "d7db7329-c28c-444a-acf9-4c90d731cd4d"
   },
   "outputs": [
    {
     "name": "stdout",
     "output_type": "stream",
     "text": [
      "True\n"
     ]
    }
   ],
   "source": [
    "print(not 2+2==5)"
   ]
  },
  {
   "cell_type": "markdown",
   "metadata": {
    "id": "iPlQZdSXULri"
   },
   "source": [
    "### Tipos de datos"
   ]
  },
  {
   "cell_type": "markdown",
   "metadata": {
    "id": "7t3B_VZ9ULri"
   },
   "source": [
    "* String: cadenas de texto"
   ]
  },
  {
   "cell_type": "code",
   "execution_count": null,
   "metadata": {
    "id": "AR4fU2rxULri",
    "outputId": "e2b0aef7-ebc4-4016-c43e-20ceb5da43f2"
   },
   "outputs": [
    {
     "name": "stdout",
     "output_type": "stream",
     "text": [
      "123\n"
     ]
    },
    {
     "data": {
      "text/plain": [
       "str"
      ]
     },
     "execution_count": 5,
     "metadata": {},
     "output_type": "execute_result"
    }
   ],
   "source": [
    "a = \"123\"\n",
    "print(a)\n",
    "type(a)"
   ]
  },
  {
   "cell_type": "markdown",
   "metadata": {
    "id": "9t9hLZmtULri"
   },
   "source": [
    "* Interger: numeros enteros"
   ]
  },
  {
   "cell_type": "code",
   "execution_count": null,
   "metadata": {
    "id": "Msb1uFm2ULri",
    "outputId": "6619bed9-4809-4ee7-f90c-20faeea24796"
   },
   "outputs": [
    {
     "name": "stdout",
     "output_type": "stream",
     "text": [
      "<class 'int'>\n"
     ]
    }
   ],
   "source": [
    "a = 450\n",
    "print(type(a))"
   ]
  },
  {
   "cell_type": "markdown",
   "metadata": {
    "id": "azC_wFp6ULri"
   },
   "source": [
    "* Float: numeros decimales"
   ]
  },
  {
   "cell_type": "code",
   "execution_count": null,
   "metadata": {
    "id": "wlqojDTlULrj",
    "outputId": "afe743c3-d973-474f-e4d5-c23838d83085"
   },
   "outputs": [
    {
     "name": "stdout",
     "output_type": "stream",
     "text": [
      "<class 'float'>\n"
     ]
    }
   ],
   "source": [
    "a = 3.1416\n",
    "print(type(a))"
   ]
  },
  {
   "cell_type": "markdown",
   "metadata": {
    "id": "TM7ByyFoULrj"
   },
   "source": [
    "* Boolean: comunmente son los resultados de aplicar operadores logicos"
   ]
  },
  {
   "cell_type": "code",
   "execution_count": null,
   "metadata": {
    "id": "nbg9Hjd6ULrj",
    "outputId": "626ccc3a-4fc3-418a-8df7-bf79ca531eec"
   },
   "outputs": [
    {
     "name": "stdout",
     "output_type": "stream",
     "text": [
      "True\n"
     ]
    },
    {
     "data": {
      "text/plain": [
       "bool"
      ]
     },
     "execution_count": 2,
     "metadata": {},
     "output_type": "execute_result"
    }
   ],
   "source": [
    "a = \"Python\" < \"python\"\n",
    "print(a)\n",
    "type(a)"
   ]
  },
  {
   "cell_type": "code",
   "execution_count": null,
   "metadata": {
    "id": "QS7LM7arULrj",
    "outputId": "54d1c2cf-e537-4210-f171-8fa1b3af484c"
   },
   "outputs": [
    {
     "name": "stdout",
     "output_type": "stream",
     "text": [
      "13.75\n"
     ]
    }
   ],
   "source": [
    "print(c+d)"
   ]
  },
  {
   "cell_type": "code",
   "execution_count": null,
   "metadata": {
    "id": "LMFJuxB8ULrj",
    "outputId": "a2781665-d402-49c1-f4d8-2d21fd28a08c"
   },
   "outputs": [
    {
     "name": "stdout",
     "output_type": "stream",
     "text": [
      "<class 'float'>\n"
     ]
    }
   ],
   "source": [
    "print(type(c+d))"
   ]
  },
  {
   "cell_type": "markdown",
   "metadata": {
    "id": "ZkobUaIGULrj"
   },
   "source": [
    "### Asignaciones"
   ]
  },
  {
   "cell_type": "markdown",
   "metadata": {
    "id": "dS3G4_hzULrj"
   },
   "source": [
    "Para asignar información a un objeto, utilizamos el operador que nos ayuda a hacer declaraciones _\"=\"_"
   ]
  },
  {
   "cell_type": "code",
   "execution_count": null,
   "metadata": {
    "id": "U8GjeG35ULrj",
    "outputId": "6bf4b02b-6fe3-4792-c52b-b717a0fbf88e"
   },
   "outputs": [
    {
     "name": "stdout",
     "output_type": "stream",
     "text": [
      "Estoy asignando un string\n"
     ]
    }
   ],
   "source": [
    "a = \"Estoy asignando un string\"\n",
    "# variable = valor\n",
    "print(a)"
   ]
  },
  {
   "cell_type": "markdown",
   "metadata": {
    "id": "sDR_GeSAULrj"
   },
   "source": [
    " #### Algunas reglas para elegir el nombre de variables\n",
    "\n",
    " * No utilizar palabras clave o funciones que python ya tiene asignados\n",
    " * No usar espacios en los nombres de las variables\n",
    " * El nombre de las variables debe comenzar con una letra o con un guión bajo \"_\"\n"
   ]
  },
  {
   "cell_type": "code",
   "execution_count": null,
   "metadata": {
    "id": "W6xhAGADULrj"
   },
   "outputs": [],
   "source": [
    "VAR_PIB_2020 = -0.089"
   ]
  },
  {
   "cell_type": "code",
   "execution_count": null,
   "metadata": {
    "id": "SHOcEKU-ULrj"
   },
   "outputs": [],
   "source": [
    "_VAR_INPC = 0.032"
   ]
  },
  {
   "cell_type": "code",
   "execution_count": null,
   "metadata": {
    "id": "4k8u6tahULrj",
    "outputId": "e81a9d8b-5c46-4e4a-98d1-28ca7d3e2937"
   },
   "outputs": [
    {
     "data": {
      "text/plain": [
       "0.032"
      ]
     },
     "execution_count": 13,
     "metadata": {},
     "output_type": "execute_result"
    }
   ],
   "source": [
    "_VAR_INPC"
   ]
  },
  {
   "cell_type": "markdown",
   "metadata": {
    "id": "VTRPM-8XULrj"
   },
   "source": [
    "### Tipos de secuencias"
   ]
  },
  {
   "cell_type": "markdown",
   "metadata": {
    "id": "zTtEGc2rULrj"
   },
   "source": [
    "Las secuencias son basicamente lo que nos permite agrupar datos dentro de una misma variable"
   ]
  },
  {
   "cell_type": "markdown",
   "metadata": {
    "id": "JrhzDdtgULrj"
   },
   "source": [
    "* Tupla: no modificable, puede contener distintos tipos de datos. Se generan poniendo conjuntos de datos entre paréntesis _'()'_"
   ]
  },
  {
   "cell_type": "code",
   "execution_count": null,
   "metadata": {
    "id": "Ay9B5UbBULrj",
    "outputId": "cc134653-bd28-4e9f-af0e-ba89222f4edc"
   },
   "outputs": [
    {
     "data": {
      "text/plain": [
       "tuple"
      ]
     },
     "execution_count": 1,
     "metadata": {},
     "output_type": "execute_result"
    }
   ],
   "source": [
    " x = (10,\"miércoles\", 2021, \"marzo\")\n",
    "\n",
    " type(x)"
   ]
  },
  {
   "cell_type": "markdown",
   "metadata": {
    "id": "AA9CiCD4ULrj"
   },
   "source": [
    "* Lista: a diferencia de las tupla, las listas pueden son modificables, esto quiere decir que se les puede agregar nuevos datos. Se generan poniendo conjutos de datos entre corchetes _'[]'_ o utlizando la función list()."
   ]
  },
  {
   "cell_type": "code",
   "execution_count": null,
   "metadata": {
    "id": "lzga15nQULrj",
    "outputId": "a2e95d42-6599-4e6f-d749-4af922a5a376"
   },
   "outputs": [
    {
     "data": {
      "text/plain": [
       "list"
      ]
     },
     "execution_count": 14,
     "metadata": {},
     "output_type": "execute_result"
    }
   ],
   "source": [
    "x = [22, \"miércoles\", 2022, \"febrero\"]\n",
    "\n",
    "type(x)"
   ]
  },
  {
   "cell_type": "code",
   "execution_count": null,
   "metadata": {
    "id": "HCCaBUd2ULrk",
    "outputId": "c5bf19ca-bd60-4583-da9c-be77f88cfb43"
   },
   "outputs": [
    {
     "data": {
      "text/plain": [
       "[22, 'miércoles', 2022, 'febrero', 'Econometría II']"
      ]
     },
     "execution_count": 5,
     "metadata": {},
     "output_type": "execute_result"
    }
   ],
   "source": [
    "x.append(\"Econometría II\") #sintaxys para agregar elementos\n",
    "\n",
    "x"
   ]
  },
  {
   "cell_type": "markdown",
   "metadata": {
    "id": "png5b8VeULrk"
   },
   "source": [
    "Los Corchetes son de gran ayuda para acceder a partes especificias de una lusta o tupla"
   ]
  },
  {
   "cell_type": "code",
   "execution_count": null,
   "metadata": {
    "id": "F4RzgoUrULrk",
    "outputId": "6c56bd0e-fa57-4ae0-c9ab-1fff8e556b6b"
   },
   "outputs": [
    {
     "data": {
      "text/plain": [
       "22"
      ]
     },
     "execution_count": 15,
     "metadata": {},
     "output_type": "execute_result"
    }
   ],
   "source": [
    "x[0]"
   ]
  },
  {
   "cell_type": "markdown",
   "metadata": {
    "id": "Qqfxd7IJULrk"
   },
   "source": [
    "Al utilizar la suma entre dos listas, el resultado es una lista que concatena ambas listas"
   ]
  },
  {
   "cell_type": "code",
   "execution_count": null,
   "metadata": {
    "id": "8-EoY5VDULrk",
    "outputId": "8f14e85c-8809-491c-fbda-5486940ff5e8"
   },
   "outputs": [
    {
     "data": {
      "text/plain": [
       "[1, 3, 5, 7, 11, 13, 5, 7]"
      ]
     },
     "metadata": {},
     "output_type": "display_data"
    }
   ],
   "source": [
    "[1,3,5,7,11,13] + [5,7]"
   ]
  },
  {
   "cell_type": "markdown",
   "metadata": {
    "id": "7Ab6DYRjULrk"
   },
   "source": [
    "Al utilizar la multiplicación en una lista, el resultado es la repetición de _n_ veces esa lista"
   ]
  },
  {
   "cell_type": "code",
   "execution_count": null,
   "metadata": {
    "id": "yJ7HQUwYULrk",
    "outputId": "26e255e1-bffe-43b3-ab26-47d2905f44c2"
   },
   "outputs": [
    {
     "data": {
      "text/plain": [
       "[1, 3, 5, 7, 1, 3, 5, 7, 1, 3, 5, 7]"
      ]
     },
     "metadata": {},
     "output_type": "display_data"
    }
   ],
   "source": [
    "[1,3,5,7]*3"
   ]
  },
  {
   "cell_type": "markdown",
   "metadata": {
    "id": "zE5fl44pULrk"
   },
   "source": [
    "* Diccionarios\n",
    "\n",
    "Los diccionarios son colecciones que contienen datos que se encuentran relacionados"
   ]
  },
  {
   "cell_type": "code",
   "execution_count": null,
   "metadata": {
    "id": "QZmAQHWjULrk",
    "outputId": "b55d9f48-d7c0-4526-f3f4-539ae6a097b3"
   },
   "outputs": [
    {
     "data": {
      "text/plain": [
       "{'Semana 1': 'Repaso parte 1',\n",
       " 'Semana 2': 'Repaso parte 2',\n",
       " 'Semana 3': 'Introducción a Python'}"
      ]
     },
     "execution_count": 8,
     "metadata": {},
     "output_type": "execute_result"
    }
   ],
   "source": [
    "Sesiones = {\"Semana 1\":\"Repaso parte 1\", \"Semana 2\":\"Repaso parte 2\", \"Semana 3\":\"Introducción a Python\" }\n",
    "\n",
    "Sesiones"
   ]
  },
  {
   "cell_type": "markdown",
   "metadata": {
    "id": "2EAdJqInULrk"
   },
   "source": [
    "### Funciones, estructuras de control y librerias\n",
    "\n",
    "Las funciones y estructuras de control son elementos dentro de los lenguajes de programacion que nos ayudan a sistematizar tareas repetitivas o que constantemente usaremos."
   ]
  },
  {
   "cell_type": "code",
   "execution_count": 13,
   "metadata": {
    "colab": {
     "base_uri": "https://localhost:8080/"
    },
    "id": "esk8i8lJULrk",
    "outputId": "a1a585d9-3481-4a56-9b7d-f14d37913bf7"
   },
   "outputs": [
    {
     "data": {
      "text/plain": [
       "list"
      ]
     },
     "execution_count": 13,
     "metadata": {},
     "output_type": "execute_result"
    }
   ],
   "source": [
    "lista = [1,2,3,4,5,6,7,8,9,10]\n",
    "\n",
    "max(lista)\n",
    "\n",
    "lista.__class__\n",
    "\n",
    "#type(lista)\n",
    "\n",
    "#lista.append(11)\n",
    "\n",
    "##max(lista)\n"
   ]
  },
  {
   "cell_type": "markdown",
   "metadata": {
    "id": "ujjVyu-BULrk"
   },
   "source": [
    "En caso de que las funciones que vienen precargadas en python no sean suficiente, siempre existe la posibilidad de crear nuestras propias funciones"
   ]
  },
  {
   "cell_type": "code",
   "execution_count": 14,
   "metadata": {
    "colab": {
     "base_uri": "https://localhost:8080/",
     "height": 53
    },
    "id": "tHaFsWzhULrk",
    "outputId": "e3850135-d12e-4280-f9a4-68b269a8cde4"
   },
   "outputs": [
    {
     "name": "stdout",
     "output_type": "stream",
     "text": [
      "Hola, ¿cuál es tu nombre? Omar\n"
     ]
    },
    {
     "data": {
      "application/vnd.google.colaboratory.intrinsic+json": {
       "type": "string"
      },
      "text/plain": [
       "'Buenos días, Omar. Espero que disfrutes este curso.'"
      ]
     },
     "execution_count": 14,
     "metadata": {},
     "output_type": "execute_result"
    }
   ],
   "source": [
    "def saludar_alumno():\n",
    "    alumno = input(\"Hola, ¿cuál es tu nombre? \")\n",
    "    mensaje = str (\"Buenos días, \" + str(alumno) + \". Espero que disfrutes este curso.\")\n",
    "    #Esto se conoce como \"identation\" (sangría)\n",
    "    return mensaje\n",
    "\n",
    "saludar_alumno()\n",
    "\n"
   ]
  },
  {
   "cell_type": "code",
   "execution_count": 15,
   "metadata": {
    "id": "fapNklOeULrk"
   },
   "outputs": [],
   "source": [
    "def pregunta_zoomestre():\n",
    "    respuesta = input(\"¿Extrañas las clases en línea? (Sí/No)\")\n",
    "    respuesta = respuesta.upper()\n",
    "    respuesta = respuesta.replace(\"Í\", \"I\")\n",
    "    if respuesta == \"SI\":\n",
    "        msj = \"Nosotros también. Pero estamos afortunadamente puedes tomar la clase desde donde gustes, aunque nos sentiremos felices de verte en el salón de clases\"\n",
    "    elif respuesta == \"NO\":\n",
    "        msj = \"Te entiendo, el café zapatista por las mañanas hace la vida más fácil.\"\n",
    "    else:\n",
    "        msj = \"Lo siento, no estabamos preparados para esa respuesta\"\n",
    "    return  msj\n",
    "\n"
   ]
  },
  {
   "cell_type": "code",
   "execution_count": null,
   "metadata": {
    "id": "OFES0Z0YULrk",
    "outputId": "de73b684-931a-49c1-b4d4-1d38be2fea80"
   },
   "outputs": [
    {
     "name": "stdout",
     "output_type": "stream",
     "text": [
      "¿Crees que el formato a distancia es más complicado? (Sí/No)no\n"
     ]
    },
    {
     "data": {
      "text/plain": [
       "'Lo siento, no estabamos preparados para esa respuesta'"
      ]
     },
     "execution_count": 21,
     "metadata": {},
     "output_type": "execute_result"
    }
   ],
   "source": [
    "pregunta_zoomestre()"
   ]
  },
  {
   "cell_type": "markdown",
   "metadata": {
    "id": "Y7VJ6rg5ULrk"
   },
   "source": [
    "### Bucles"
   ]
  },
  {
   "cell_type": "markdown",
   "metadata": {
    "id": "gjNrLZOPULrk"
   },
   "source": [
    "* while"
   ]
  },
  {
   "cell_type": "code",
   "execution_count": 19,
   "metadata": {
    "colab": {
     "base_uri": "https://localhost:8080/"
    },
    "id": "hqu-j5qwULrk",
    "outputId": "23652000-3862-4faf-e5d8-85bea73e3c56"
   },
   "outputs": [
    {
     "name": "stdout",
     "output_type": "stream",
     "text": [
      "10 es un número positivo \n",
      "9 es un número positivo \n",
      "8 es un número positivo \n",
      "7 es un número positivo \n",
      "6 es un número positivo \n",
      "5 es un número positivo \n",
      "4 es un número positivo \n",
      "3 es un número positivo \n",
      "2 es un número positivo \n",
      "1 es un número positivo \n"
     ]
    }
   ],
   "source": [
    "x = 10\n",
    "while x>0:\n",
    "    print(str(x) + \" es un número positivo \")\n",
    "    x=x-1\n",
    "\n"
   ]
  },
  {
   "cell_type": "markdown",
   "metadata": {
    "id": "iXmp2dTuULrk"
   },
   "source": [
    "* _for_ and _if_"
   ]
  },
  {
   "cell_type": "code",
   "execution_count": 22,
   "metadata": {
    "colab": {
     "base_uri": "https://localhost:8080/"
    },
    "id": "63g0399IULrl",
    "outputId": "4785f763-06fa-49bf-bd16-f2a14585c11d"
   },
   "outputs": [
    {
     "name": "stdout",
     "output_type": "stream",
     "text": [
      "0 es menor a 5 \n",
      "1 es menor a 5 \n",
      "2 es menor a 5 \n",
      "3 es menor a 5 \n",
      "4 es menor a 5 \n",
      "5 es igual a 5 \n",
      "6 mayor a 5 \n",
      "7 mayor a 5 \n",
      "8 mayor a 5 \n",
      "9 mayor a 5 \n"
     ]
    }
   ],
   "source": [
    "numbers = range(10)\n",
    "\n",
    "for num in numbers:\n",
    "  if num>5:\n",
    "    print(str(num) + \" mayor a 5 \")\n",
    "  elif  num==5:\n",
    "        print(str(num) + \" es igual a 5 \")\n",
    "  else:\n",
    "      print(str(num) + \" es menor a 5 \")\n"
   ]
  },
  {
   "cell_type": "markdown",
   "metadata": {
    "id": "LjFtLygIULrl"
   },
   "source": [
    "### Librerias"
   ]
  },
  {
   "cell_type": "markdown",
   "metadata": {
    "id": "BL_LVxXZULrl"
   },
   "source": [
    "Las librerias son basicamente un esfuerzo colectivo por evitar que nos esforcemos por solucionar o desarrollar cuestiones que se encuentran resueltas. Son fundamentales para ayudarnos a realizar nuestro cometido, en un medio colaborativo es muy probable (principalmente cuando se es principiante) que alguien ya haya solucionado un problema al que nosotros nos enfrentamos, y en este tipo de ambientes de softwere libre es muy común que se haya decidido compartirla solución con la comunidad. A continuacion algunas de las librerias primordiales para trabajar en python."
   ]
  },
  {
   "cell_type": "markdown",
   "metadata": {
    "id": "Fd-514rOULrl"
   },
   "source": [
    "#### _Numpy_\n",
    "\n",
    "es una librería que nos permite realizar operaciones matemáticas de alto nivel y es de gran ayuda para realizar operaciones complejas de manera amable"
   ]
  },
  {
   "cell_type": "code",
   "execution_count": null,
   "metadata": {
    "id": "Ot_ZXDKQULrl"
   },
   "outputs": [],
   "source": [
    "#! pip install numpy\n",
    "import numpy as np"
   ]
  },
  {
   "cell_type": "code",
   "execution_count": null,
   "metadata": {
    "id": "6m7uZtbuULrl"
   },
   "outputs": [],
   "source": [
    "normal_dist = np.random.normal(2,1,100)"
   ]
  },
  {
   "cell_type": "code",
   "execution_count": null,
   "metadata": {
    "id": "AgOoUZ4pULrl",
    "outputId": "ffcb2c59-2e29-4ff9-b5d3-98e27726c89f"
   },
   "outputs": [
    {
     "name": "stderr",
     "output_type": "stream",
     "text": [
      "<ipython-input-7-c9d58de2378d>:1: RuntimeWarning: invalid value encountered in log\n",
      "  np.log(normal_dist)\n"
     ]
    },
    {
     "data": {
      "text/plain": [
       "array([ 1.21576795,  0.23764157,  0.90410703,  0.97713684,  0.62247294,\n",
       "        1.36437934, -0.0188224 ,  0.99152491,  1.28150363,  0.59820824,\n",
       "        0.70191618,  0.28973275,         nan,  1.51010377,  0.3978736 ,\n",
       "        1.06162348,  0.43489169, -0.21127711,  0.34126031,  0.79421165,\n",
       "               nan,  0.64005459,  0.68639014,  0.42874292,  1.04403241,\n",
       "        0.71921756, -0.37805684,  0.50517207,  0.69118241,  0.11728955,\n",
       "        0.98337163,  0.77244507,  1.02557375,  0.78309472,  0.56900128,\n",
       "        0.57968397,  0.24415737,  0.80581035,  1.28833766,  0.85031885,\n",
       "        1.40491647, -2.03267999, -0.43399161,  0.50338424,  0.94798876,\n",
       "        1.07503583,  1.31941942,  0.43453747,  1.00915631,  0.67008736,\n",
       "        0.77649473,  1.05245251,  0.70448019,  0.86623738,  0.82799596,\n",
       "       -0.23803913, -0.28545729,  1.23498946,  0.50172259,  0.6461544 ,\n",
       "        0.65519593,  1.17025693,  1.0899107 ,  0.78368347,  0.90973535,\n",
       "        0.58829461,  0.57772204,  0.95199714,  0.86143753,  0.1390854 ,\n",
       "        1.15488739,  0.65021607,  0.30126346,  0.86329237,  1.07981775,\n",
       "       -0.14874862,  0.85184162,  0.66826848,  0.53553081,  0.66908561,\n",
       "        0.9425223 ,  0.96530702,  0.84816492,  0.47905493,  0.20997246,\n",
       "        0.67497562,  0.33548772,  0.6818525 ,  1.13657908,         nan,\n",
       "       -1.42000315,  0.75600992,  0.62686211,  1.02782668,  0.98811374,\n",
       "        0.04911912,  0.97283393, -0.02514147,  0.83706502,  0.75402878])"
      ]
     },
     "execution_count": 7,
     "metadata": {},
     "output_type": "execute_result"
    }
   ],
   "source": [
    "np.log(normal_dist)"
   ]
  },
  {
   "cell_type": "markdown",
   "metadata": {
    "id": "8PCFPitoULrl"
   },
   "source": [
    "##### Arrays\n",
    "Los array son un tipo de objeto que puede contener datos acomodados como lo que nosotros conocemos como matrices"
   ]
  },
  {
   "cell_type": "code",
   "execution_count": null,
   "metadata": {
    "id": "y-oXfoPwULrl",
    "outputId": "adfe4536-e02a-4ab4-fc37-29332956ca59"
   },
   "outputs": [
    {
     "data": {
      "text/plain": [
       "array([1, 3, 5, 7])"
      ]
     },
     "execution_count": 8,
     "metadata": {},
     "output_type": "execute_result"
    }
   ],
   "source": [
    "lista = [1,3,5,7]\n",
    "x = np.array(lista)\n",
    "x"
   ]
  },
  {
   "cell_type": "markdown",
   "metadata": {
    "id": "fGE1bABnULrl"
   },
   "source": [
    "#### Pandas\n",
    "Pandas es una extensión de numpy. Se trata de una de las librerías más utilizadas de python, dado el gran poder de manipulación de datos que permite en los objetos de tipo _data frame_."
   ]
  },
  {
   "cell_type": "code",
   "execution_count": 1,
   "metadata": {
    "id": "Yai9o-7kULrl"
   },
   "outputs": [],
   "source": [
    "import pandas as pd"
   ]
  },
  {
   "cell_type": "markdown",
   "metadata": {
    "id": "UqPYubOGULrl"
   },
   "source": [
    "## 3.- Ejemplo práctico: Francis Galton y la regresión a la media"
   ]
  },
  {
   "cell_type": "markdown",
   "metadata": {
    "id": "71zSGeRiULrl"
   },
   "source": [
    "“Cada peculiaridad en un hombre es compartida por sus descendientes, pero en media, en un\n",
    "grado menor.”\n",
    "\n",
    "$\\hat{Y} = \\hat{\\beta}_{0} + \\sum \\limits _{j=1} ^{p} X_{j}\\hat{\\beta}_{j}$\n",
    "\n",
    "Lectura de la base de datos"
   ]
  },
  {
   "cell_type": "code",
   "execution_count": 1,
   "metadata": {},
   "outputs": [],
   "source": [
    "import pandas as pd"
   ]
  },
  {
   "cell_type": "code",
   "execution_count": 14,
   "metadata": {
    "colab": {
     "base_uri": "https://localhost:8080/",
     "height": 354
    },
    "id": "X5mU7JmgULrl",
    "outputId": "c896ea52-9e65-475b-b643-d5a1fd7707dd"
   },
   "outputs": [
    {
     "data": {
      "text/html": [
       "<div>\n",
       "<style scoped>\n",
       "    .dataframe tbody tr th:only-of-type {\n",
       "        vertical-align: middle;\n",
       "    }\n",
       "\n",
       "    .dataframe tbody tr th {\n",
       "        vertical-align: top;\n",
       "    }\n",
       "\n",
       "    .dataframe thead th {\n",
       "        text-align: right;\n",
       "    }\n",
       "</style>\n",
       "<table border=\"1\" class=\"dataframe\">\n",
       "  <thead>\n",
       "    <tr style=\"text-align: right;\">\n",
       "      <th></th>\n",
       "      <th>Family</th>\n",
       "      <th>Father</th>\n",
       "      <th>Mother</th>\n",
       "      <th>Gender</th>\n",
       "      <th>Height</th>\n",
       "      <th>Kids</th>\n",
       "    </tr>\n",
       "  </thead>\n",
       "  <tbody>\n",
       "    <tr>\n",
       "      <th>0</th>\n",
       "      <td>1</td>\n",
       "      <td>78.5</td>\n",
       "      <td>67.0</td>\n",
       "      <td>M</td>\n",
       "      <td>73.2</td>\n",
       "      <td>4</td>\n",
       "    </tr>\n",
       "    <tr>\n",
       "      <th>1</th>\n",
       "      <td>1</td>\n",
       "      <td>78.5</td>\n",
       "      <td>67.0</td>\n",
       "      <td>F</td>\n",
       "      <td>69.2</td>\n",
       "      <td>4</td>\n",
       "    </tr>\n",
       "    <tr>\n",
       "      <th>2</th>\n",
       "      <td>1</td>\n",
       "      <td>78.5</td>\n",
       "      <td>67.0</td>\n",
       "      <td>F</td>\n",
       "      <td>69.0</td>\n",
       "      <td>4</td>\n",
       "    </tr>\n",
       "    <tr>\n",
       "      <th>3</th>\n",
       "      <td>1</td>\n",
       "      <td>78.5</td>\n",
       "      <td>67.0</td>\n",
       "      <td>F</td>\n",
       "      <td>69.0</td>\n",
       "      <td>4</td>\n",
       "    </tr>\n",
       "    <tr>\n",
       "      <th>4</th>\n",
       "      <td>2</td>\n",
       "      <td>75.5</td>\n",
       "      <td>66.5</td>\n",
       "      <td>M</td>\n",
       "      <td>73.5</td>\n",
       "      <td>4</td>\n",
       "    </tr>\n",
       "    <tr>\n",
       "      <th>5</th>\n",
       "      <td>2</td>\n",
       "      <td>75.5</td>\n",
       "      <td>66.5</td>\n",
       "      <td>M</td>\n",
       "      <td>72.5</td>\n",
       "      <td>4</td>\n",
       "    </tr>\n",
       "    <tr>\n",
       "      <th>6</th>\n",
       "      <td>2</td>\n",
       "      <td>75.5</td>\n",
       "      <td>66.5</td>\n",
       "      <td>F</td>\n",
       "      <td>65.5</td>\n",
       "      <td>4</td>\n",
       "    </tr>\n",
       "    <tr>\n",
       "      <th>7</th>\n",
       "      <td>2</td>\n",
       "      <td>75.5</td>\n",
       "      <td>66.5</td>\n",
       "      <td>F</td>\n",
       "      <td>65.5</td>\n",
       "      <td>4</td>\n",
       "    </tr>\n",
       "    <tr>\n",
       "      <th>8</th>\n",
       "      <td>3</td>\n",
       "      <td>75.0</td>\n",
       "      <td>64.0</td>\n",
       "      <td>M</td>\n",
       "      <td>71.0</td>\n",
       "      <td>2</td>\n",
       "    </tr>\n",
       "    <tr>\n",
       "      <th>9</th>\n",
       "      <td>3</td>\n",
       "      <td>75.0</td>\n",
       "      <td>64.0</td>\n",
       "      <td>F</td>\n",
       "      <td>68.0</td>\n",
       "      <td>2</td>\n",
       "    </tr>\n",
       "  </tbody>\n",
       "</table>\n",
       "</div>"
      ],
      "text/plain": [
       "  Family  Father  Mother Gender  Height  Kids\n",
       "0      1    78.5    67.0      M    73.2     4\n",
       "1      1    78.5    67.0      F    69.2     4\n",
       "2      1    78.5    67.0      F    69.0     4\n",
       "3      1    78.5    67.0      F    69.0     4\n",
       "4      2    75.5    66.5      M    73.5     4\n",
       "5      2    75.5    66.5      M    72.5     4\n",
       "6      2    75.5    66.5      F    65.5     4\n",
       "7      2    75.5    66.5      F    65.5     4\n",
       "8      3    75.0    64.0      M    71.0     2\n",
       "9      3    75.0    64.0      F    68.0     2"
      ]
     },
     "execution_count": 14,
     "metadata": {},
     "output_type": "execute_result"
    }
   ],
   "source": [
    "url = \"https://josephsalmon.eu/enseignement/TELECOM/MDI720/datasets/Galton.txt\"\n",
    "df = pd.read_csv(url, sep = \"\\t\")\n",
    "df.head(10)"
   ]
  },
  {
   "cell_type": "code",
   "execution_count": 15,
   "metadata": {},
   "outputs": [
    {
     "data": {
      "text/html": [
       "<div>\n",
       "<style scoped>\n",
       "    .dataframe tbody tr th:only-of-type {\n",
       "        vertical-align: middle;\n",
       "    }\n",
       "\n",
       "    .dataframe tbody tr th {\n",
       "        vertical-align: top;\n",
       "    }\n",
       "\n",
       "    .dataframe thead th {\n",
       "        text-align: right;\n",
       "    }\n",
       "</style>\n",
       "<table border=\"1\" class=\"dataframe\">\n",
       "  <thead>\n",
       "    <tr style=\"text-align: right;\">\n",
       "      <th></th>\n",
       "      <th>Family</th>\n",
       "      <th>Father</th>\n",
       "      <th>Mother</th>\n",
       "      <th>Gender</th>\n",
       "      <th>Height</th>\n",
       "      <th>Kids</th>\n",
       "    </tr>\n",
       "  </thead>\n",
       "  <tbody>\n",
       "    <tr>\n",
       "      <th>892</th>\n",
       "      <td>136A</td>\n",
       "      <td>68.5</td>\n",
       "      <td>65.0</td>\n",
       "      <td>M</td>\n",
       "      <td>68.7</td>\n",
       "      <td>8</td>\n",
       "    </tr>\n",
       "    <tr>\n",
       "      <th>893</th>\n",
       "      <td>136A</td>\n",
       "      <td>68.5</td>\n",
       "      <td>65.0</td>\n",
       "      <td>M</td>\n",
       "      <td>68.5</td>\n",
       "      <td>8</td>\n",
       "    </tr>\n",
       "    <tr>\n",
       "      <th>894</th>\n",
       "      <td>136A</td>\n",
       "      <td>68.5</td>\n",
       "      <td>65.0</td>\n",
       "      <td>M</td>\n",
       "      <td>67.7</td>\n",
       "      <td>8</td>\n",
       "    </tr>\n",
       "    <tr>\n",
       "      <th>895</th>\n",
       "      <td>136A</td>\n",
       "      <td>68.5</td>\n",
       "      <td>65.0</td>\n",
       "      <td>F</td>\n",
       "      <td>64.0</td>\n",
       "      <td>8</td>\n",
       "    </tr>\n",
       "    <tr>\n",
       "      <th>896</th>\n",
       "      <td>136A</td>\n",
       "      <td>68.5</td>\n",
       "      <td>65.0</td>\n",
       "      <td>F</td>\n",
       "      <td>63.5</td>\n",
       "      <td>8</td>\n",
       "    </tr>\n",
       "    <tr>\n",
       "      <th>897</th>\n",
       "      <td>136A</td>\n",
       "      <td>68.5</td>\n",
       "      <td>65.0</td>\n",
       "      <td>F</td>\n",
       "      <td>63.0</td>\n",
       "      <td>8</td>\n",
       "    </tr>\n",
       "  </tbody>\n",
       "</table>\n",
       "</div>"
      ],
      "text/plain": [
       "    Family  Father  Mother Gender  Height  Kids\n",
       "892   136A    68.5    65.0      M    68.7     8\n",
       "893   136A    68.5    65.0      M    68.5     8\n",
       "894   136A    68.5    65.0      M    67.7     8\n",
       "895   136A    68.5    65.0      F    64.0     8\n",
       "896   136A    68.5    65.0      F    63.5     8\n",
       "897   136A    68.5    65.0      F    63.0     8"
      ]
     },
     "execution_count": 15,
     "metadata": {},
     "output_type": "execute_result"
    }
   ],
   "source": [
    "df.tail(6)"
   ]
  },
  {
   "cell_type": "code",
   "execution_count": 16,
   "metadata": {
    "id": "PaviynplULrl",
    "outputId": "4ee5354a-9c8d-4405-8bd6-ec4fcf2ca9b8"
   },
   "outputs": [
    {
     "data": {
      "text/plain": [
       "pandas.core.frame.DataFrame"
      ]
     },
     "execution_count": 16,
     "metadata": {},
     "output_type": "execute_result"
    }
   ],
   "source": [
    "type(df)"
   ]
  },
  {
   "cell_type": "markdown",
   "metadata": {
    "id": "X1220bdzULrl"
   },
   "source": [
    "Convertimos la altura de pulgadas a centimetros"
   ]
  },
  {
   "cell_type": "code",
   "execution_count": 17,
   "metadata": {},
   "outputs": [
    {
     "data": {
      "text/plain": [
       "0      4\n",
       "1      4\n",
       "2      4\n",
       "3      4\n",
       "4      4\n",
       "      ..\n",
       "893    8\n",
       "894    8\n",
       "895    8\n",
       "896    8\n",
       "897    8\n",
       "Name: Kids, Length: 898, dtype: int64"
      ]
     },
     "execution_count": 17,
     "metadata": {},
     "output_type": "execute_result"
    }
   ],
   "source": [
    "df.Kids"
   ]
  },
  {
   "cell_type": "code",
   "execution_count": 18,
   "metadata": {
    "colab": {
     "base_uri": "https://localhost:8080/",
     "height": 206
    },
    "id": "ldU5nQpmULrl",
    "outputId": "92bacb61-b52b-4b12-e595-3ece12ff7ca1"
   },
   "outputs": [
    {
     "data": {
      "text/html": [
       "<div>\n",
       "<style scoped>\n",
       "    .dataframe tbody tr th:only-of-type {\n",
       "        vertical-align: middle;\n",
       "    }\n",
       "\n",
       "    .dataframe tbody tr th {\n",
       "        vertical-align: top;\n",
       "    }\n",
       "\n",
       "    .dataframe thead th {\n",
       "        text-align: right;\n",
       "    }\n",
       "</style>\n",
       "<table border=\"1\" class=\"dataframe\">\n",
       "  <thead>\n",
       "    <tr style=\"text-align: right;\">\n",
       "      <th></th>\n",
       "      <th>Family</th>\n",
       "      <th>Father</th>\n",
       "      <th>Mother</th>\n",
       "      <th>Gender</th>\n",
       "      <th>Height</th>\n",
       "      <th>Kids</th>\n",
       "    </tr>\n",
       "  </thead>\n",
       "  <tbody>\n",
       "    <tr>\n",
       "      <th>0</th>\n",
       "      <td>1</td>\n",
       "      <td>199.39</td>\n",
       "      <td>170.18</td>\n",
       "      <td>M</td>\n",
       "      <td>185.928</td>\n",
       "      <td>4</td>\n",
       "    </tr>\n",
       "    <tr>\n",
       "      <th>1</th>\n",
       "      <td>1</td>\n",
       "      <td>199.39</td>\n",
       "      <td>170.18</td>\n",
       "      <td>F</td>\n",
       "      <td>175.768</td>\n",
       "      <td>4</td>\n",
       "    </tr>\n",
       "    <tr>\n",
       "      <th>2</th>\n",
       "      <td>1</td>\n",
       "      <td>199.39</td>\n",
       "      <td>170.18</td>\n",
       "      <td>F</td>\n",
       "      <td>175.260</td>\n",
       "      <td>4</td>\n",
       "    </tr>\n",
       "    <tr>\n",
       "      <th>3</th>\n",
       "      <td>1</td>\n",
       "      <td>199.39</td>\n",
       "      <td>170.18</td>\n",
       "      <td>F</td>\n",
       "      <td>175.260</td>\n",
       "      <td>4</td>\n",
       "    </tr>\n",
       "    <tr>\n",
       "      <th>4</th>\n",
       "      <td>2</td>\n",
       "      <td>191.77</td>\n",
       "      <td>168.91</td>\n",
       "      <td>M</td>\n",
       "      <td>186.690</td>\n",
       "      <td>4</td>\n",
       "    </tr>\n",
       "    <tr>\n",
       "      <th>5</th>\n",
       "      <td>2</td>\n",
       "      <td>191.77</td>\n",
       "      <td>168.91</td>\n",
       "      <td>M</td>\n",
       "      <td>184.150</td>\n",
       "      <td>4</td>\n",
       "    </tr>\n",
       "    <tr>\n",
       "      <th>6</th>\n",
       "      <td>2</td>\n",
       "      <td>191.77</td>\n",
       "      <td>168.91</td>\n",
       "      <td>F</td>\n",
       "      <td>166.370</td>\n",
       "      <td>4</td>\n",
       "    </tr>\n",
       "    <tr>\n",
       "      <th>7</th>\n",
       "      <td>2</td>\n",
       "      <td>191.77</td>\n",
       "      <td>168.91</td>\n",
       "      <td>F</td>\n",
       "      <td>166.370</td>\n",
       "      <td>4</td>\n",
       "    </tr>\n",
       "    <tr>\n",
       "      <th>8</th>\n",
       "      <td>3</td>\n",
       "      <td>190.50</td>\n",
       "      <td>162.56</td>\n",
       "      <td>M</td>\n",
       "      <td>180.340</td>\n",
       "      <td>2</td>\n",
       "    </tr>\n",
       "    <tr>\n",
       "      <th>9</th>\n",
       "      <td>3</td>\n",
       "      <td>190.50</td>\n",
       "      <td>162.56</td>\n",
       "      <td>F</td>\n",
       "      <td>172.720</td>\n",
       "      <td>2</td>\n",
       "    </tr>\n",
       "  </tbody>\n",
       "</table>\n",
       "</div>"
      ],
      "text/plain": [
       "  Family  Father  Mother Gender   Height  Kids\n",
       "0      1  199.39  170.18      M  185.928     4\n",
       "1      1  199.39  170.18      F  175.768     4\n",
       "2      1  199.39  170.18      F  175.260     4\n",
       "3      1  199.39  170.18      F  175.260     4\n",
       "4      2  191.77  168.91      M  186.690     4\n",
       "5      2  191.77  168.91      M  184.150     4\n",
       "6      2  191.77  168.91      F  166.370     4\n",
       "7      2  191.77  168.91      F  166.370     4\n",
       "8      3  190.50  162.56      M  180.340     2\n",
       "9      3  190.50  162.56      F  172.720     2"
      ]
     },
     "execution_count": 18,
     "metadata": {},
     "output_type": "execute_result"
    }
   ],
   "source": [
    "df[['Father', 'Mother', 'Height']] = df[['Father', 'Mother', 'Height']]*2.54\n",
    "df.head(10)"
   ]
  },
  {
   "cell_type": "code",
   "execution_count": 21,
   "metadata": {},
   "outputs": [
    {
     "data": {
      "text/html": [
       "<div>\n",
       "<style scoped>\n",
       "    .dataframe tbody tr th:only-of-type {\n",
       "        vertical-align: middle;\n",
       "    }\n",
       "\n",
       "    .dataframe tbody tr th {\n",
       "        vertical-align: top;\n",
       "    }\n",
       "\n",
       "    .dataframe thead th {\n",
       "        text-align: right;\n",
       "    }\n",
       "</style>\n",
       "<table border=\"1\" class=\"dataframe\">\n",
       "  <thead>\n",
       "    <tr style=\"text-align: right;\">\n",
       "      <th></th>\n",
       "      <th>Family</th>\n",
       "      <th>Father</th>\n",
       "      <th>Mother</th>\n",
       "      <th>Gender</th>\n",
       "      <th>Height</th>\n",
       "      <th>Kids</th>\n",
       "    </tr>\n",
       "  </thead>\n",
       "  <tbody>\n",
       "    <tr>\n",
       "      <th>2</th>\n",
       "      <td>1</td>\n",
       "      <td>199.39</td>\n",
       "      <td>170.18</td>\n",
       "      <td>F</td>\n",
       "      <td>175.26</td>\n",
       "      <td>4</td>\n",
       "    </tr>\n",
       "    <tr>\n",
       "      <th>3</th>\n",
       "      <td>1</td>\n",
       "      <td>199.39</td>\n",
       "      <td>170.18</td>\n",
       "      <td>F</td>\n",
       "      <td>175.26</td>\n",
       "      <td>4</td>\n",
       "    </tr>\n",
       "  </tbody>\n",
       "</table>\n",
       "</div>"
      ],
      "text/plain": [
       "  Family  Father  Mother Gender  Height  Kids\n",
       "2      1  199.39  170.18      F  175.26     4\n",
       "3      1  199.39  170.18      F  175.26     4"
      ]
     },
     "execution_count": 21,
     "metadata": {},
     "output_type": "execute_result"
    }
   ],
   "source": [
    "df.iloc[2:4]"
   ]
  },
  {
   "cell_type": "markdown",
   "metadata": {
    "id": "_bckxlfvULrl"
   },
   "source": [
    "### Matplotlib and seaborn\n",
    "\n",
    "_Matplotlib_ y _Seaborn_ son de las librerías más utilizadas para la visualización de datos"
   ]
  },
  {
   "cell_type": "code",
   "execution_count": 12,
   "metadata": {
    "id": "g1abnSsAULrl"
   },
   "outputs": [],
   "source": [
    "import matplotlib.pyplot as plt\n",
    "plt.style.use('ggplot')\n",
    "import seaborn as sns"
   ]
  },
  {
   "cell_type": "code",
   "execution_count": 23,
   "metadata": {
    "id": "zmNCcA6hULrl",
    "outputId": "39107aee-0f09-40b4-b024-4f06df164c59"
   },
   "outputs": [
    {
     "data": {
      "image/png": "[encoded data removed]",
      "text/plain": [
       "<Figure size 764.875x720 with 20 Axes>"
      ]
     },
     "metadata": {
      "needs_background": "light"
     },
     "output_type": "display_data"
    }
   ],
   "source": [
    "sns.pairplot(df, hue='Gender')\n",
    "plt.show()"
   ]
  },
  {
   "cell_type": "code",
   "execution_count": 35,
   "metadata": {
    "id": "N_QswjWuULrm"
   },
   "outputs": [],
   "source": [
    "import numpy as np\n",
    "\n",
    "X = np.array(df[[\"Father\", \"Mother\"]])\n",
    "\n",
    "Y = df[\"Height\"]"
   ]
  },
  {
   "cell_type": "code",
   "execution_count": 36,
   "metadata": {},
   "outputs": [
    {
     "data": {
      "text/plain": [
       "array([[199.39, 170.18],\n",
       "       [199.39, 170.18],\n",
       "       [199.39, 170.18],\n",
       "       ...,\n",
       "       [173.99, 165.1 ],\n",
       "       [173.99, 165.1 ],\n",
       "       [173.99, 165.1 ]])"
      ]
     },
     "execution_count": 36,
     "metadata": {},
     "output_type": "execute_result"
    }
   ],
   "source": [
    "X"
   ]
  },
  {
   "cell_type": "code",
   "execution_count": 37,
   "metadata": {},
   "outputs": [
    {
     "data": {
      "text/plain": [
       "0      185.928\n",
       "1      175.768\n",
       "2      175.260\n",
       "3      175.260\n",
       "4      186.690\n",
       "        ...   \n",
       "893    173.990\n",
       "894    171.958\n",
       "895    162.560\n",
       "896    161.290\n",
       "897    160.020\n",
       "Name: Height, Length: 898, dtype: float64"
      ]
     },
     "execution_count": 37,
     "metadata": {},
     "output_type": "execute_result"
    }
   ],
   "source": [
    "Y"
   ]
  },
  {
   "cell_type": "code",
   "execution_count": 38,
   "metadata": {},
   "outputs": [
    {
     "data": {
      "text/plain": [
       "array([1., 1., 1., 1., 1., 1., 1., 1., 1., 1., 1., 1., 1., 1., 1., 1., 1.,\n",
       "       1., 1., 1., 1., 1., 1., 1., 1., 1., 1., 1., 1., 1., 1., 1., 1., 1.,\n",
       "       1., 1., 1., 1., 1., 1., 1., 1., 1., 1., 1., 1., 1., 1., 1., 1., 1.,\n",
       "       1., 1., 1., 1., 1., 1., 1., 1., 1., 1., 1., 1., 1., 1., 1., 1., 1.,\n",
       "       1., 1., 1., 1., 1., 1., 1., 1., 1., 1., 1., 1., 1., 1., 1., 1., 1.,\n",
       "       1., 1., 1., 1., 1., 1., 1., 1., 1., 1., 1., 1., 1., 1., 1., 1., 1.,\n",
       "       1., 1., 1., 1., 1., 1., 1., 1., 1., 1., 1., 1., 1., 1., 1., 1., 1.,\n",
       "       1., 1., 1., 1., 1., 1., 1., 1., 1., 1., 1., 1., 1., 1., 1., 1., 1.,\n",
       "       1., 1., 1., 1., 1., 1., 1., 1., 1., 1., 1., 1., 1., 1., 1., 1., 1.,\n",
       "       1., 1., 1., 1., 1., 1., 1., 1., 1., 1., 1., 1., 1., 1., 1., 1., 1.,\n",
       "       1., 1., 1., 1., 1., 1., 1., 1., 1., 1., 1., 1., 1., 1., 1., 1., 1.,\n",
       "       1., 1., 1., 1., 1., 1., 1., 1., 1., 1., 1., 1., 1., 1., 1., 1., 1.,\n",
       "       1., 1., 1., 1., 1., 1., 1., 1., 1., 1., 1., 1., 1., 1., 1., 1., 1.,\n",
       "       1., 1., 1., 1., 1., 1., 1., 1., 1., 1., 1., 1., 1., 1., 1., 1., 1.,\n",
       "       1., 1., 1., 1., 1., 1., 1., 1., 1., 1., 1., 1., 1., 1., 1., 1., 1.,\n",
       "       1., 1., 1., 1., 1., 1., 1., 1., 1., 1., 1., 1., 1., 1., 1., 1., 1.,\n",
       "       1., 1., 1., 1., 1., 1., 1., 1., 1., 1., 1., 1., 1., 1., 1., 1., 1.,\n",
       "       1., 1., 1., 1., 1., 1., 1., 1., 1., 1., 1., 1., 1., 1., 1., 1., 1.,\n",
       "       1., 1., 1., 1., 1., 1., 1., 1., 1., 1., 1., 1., 1., 1., 1., 1., 1.,\n",
       "       1., 1., 1., 1., 1., 1., 1., 1., 1., 1., 1., 1., 1., 1., 1., 1., 1.,\n",
       "       1., 1., 1., 1., 1., 1., 1., 1., 1., 1., 1., 1., 1., 1., 1., 1., 1.,\n",
       "       1., 1., 1., 1., 1., 1., 1., 1., 1., 1., 1., 1., 1., 1., 1., 1., 1.,\n",
       "       1., 1., 1., 1., 1., 1., 1., 1., 1., 1., 1., 1., 1., 1., 1., 1., 1.,\n",
       "       1., 1., 1., 1., 1., 1., 1., 1., 1., 1., 1., 1., 1., 1., 1., 1., 1.,\n",
       "       1., 1., 1., 1., 1., 1., 1., 1., 1., 1., 1., 1., 1., 1., 1., 1., 1.,\n",
       "       1., 1., 1., 1., 1., 1., 1., 1., 1., 1., 1., 1., 1., 1., 1., 1., 1.,\n",
       "       1., 1., 1., 1., 1., 1., 1., 1., 1., 1., 1., 1., 1., 1., 1., 1., 1.,\n",
       "       1., 1., 1., 1., 1., 1., 1., 1., 1., 1., 1., 1., 1., 1., 1., 1., 1.,\n",
       "       1., 1., 1., 1., 1., 1., 1., 1., 1., 1., 1., 1., 1., 1., 1., 1., 1.,\n",
       "       1., 1., 1., 1., 1., 1., 1., 1., 1., 1., 1., 1., 1., 1., 1., 1., 1.,\n",
       "       1., 1., 1., 1., 1., 1., 1., 1., 1., 1., 1., 1., 1., 1., 1., 1., 1.,\n",
       "       1., 1., 1., 1., 1., 1., 1., 1., 1., 1., 1., 1., 1., 1., 1., 1., 1.,\n",
       "       1., 1., 1., 1., 1., 1., 1., 1., 1., 1., 1., 1., 1., 1., 1., 1., 1.,\n",
       "       1., 1., 1., 1., 1., 1., 1., 1., 1., 1., 1., 1., 1., 1., 1., 1., 1.,\n",
       "       1., 1., 1., 1., 1., 1., 1., 1., 1., 1., 1., 1., 1., 1., 1., 1., 1.,\n",
       "       1., 1., 1., 1., 1., 1., 1., 1., 1., 1., 1., 1., 1., 1., 1., 1., 1.,\n",
       "       1., 1., 1., 1., 1., 1., 1., 1., 1., 1., 1., 1., 1., 1., 1., 1., 1.,\n",
       "       1., 1., 1., 1., 1., 1., 1., 1., 1., 1., 1., 1., 1., 1., 1., 1., 1.,\n",
       "       1., 1., 1., 1., 1., 1., 1., 1., 1., 1., 1., 1., 1., 1., 1., 1., 1.,\n",
       "       1., 1., 1., 1., 1., 1., 1., 1., 1., 1., 1., 1., 1., 1., 1., 1., 1.,\n",
       "       1., 1., 1., 1., 1., 1., 1., 1., 1., 1., 1., 1., 1., 1., 1., 1., 1.,\n",
       "       1., 1., 1., 1., 1., 1., 1., 1., 1., 1., 1., 1., 1., 1., 1., 1., 1.,\n",
       "       1., 1., 1., 1., 1., 1., 1., 1., 1., 1., 1., 1., 1., 1., 1., 1., 1.,\n",
       "       1., 1., 1., 1., 1., 1., 1., 1., 1., 1., 1., 1., 1., 1., 1., 1., 1.,\n",
       "       1., 1., 1., 1., 1., 1., 1., 1., 1., 1., 1., 1., 1., 1., 1., 1., 1.,\n",
       "       1., 1., 1., 1., 1., 1., 1., 1., 1., 1., 1., 1., 1., 1., 1., 1., 1.,\n",
       "       1., 1., 1., 1., 1., 1., 1., 1., 1., 1., 1., 1., 1., 1., 1., 1., 1.,\n",
       "       1., 1., 1., 1., 1., 1., 1., 1., 1., 1., 1., 1., 1., 1., 1., 1., 1.,\n",
       "       1., 1., 1., 1., 1., 1., 1., 1., 1., 1., 1., 1., 1., 1., 1., 1., 1.,\n",
       "       1., 1., 1., 1., 1., 1., 1., 1., 1., 1., 1., 1., 1., 1., 1., 1., 1.,\n",
       "       1., 1., 1., 1., 1., 1., 1., 1., 1., 1., 1., 1., 1., 1., 1., 1., 1.,\n",
       "       1., 1., 1., 1., 1., 1., 1., 1., 1., 1., 1., 1., 1., 1., 1., 1., 1.,\n",
       "       1., 1., 1., 1., 1., 1., 1., 1., 1., 1., 1., 1., 1., 1.])"
      ]
     },
     "execution_count": 38,
     "metadata": {},
     "output_type": "execute_result"
    }
   ],
   "source": [
    "Unos = np.ones(len(Y))\n",
    "Unos"
   ]
  },
  {
   "cell_type": "code",
   "execution_count": 39,
   "metadata": {
    "id": "bvo2G9_JULrm",
    "outputId": "fd90d2ec-4d8d-4c81-da5c-f227a16df0d3"
   },
   "outputs": [
    {
     "data": {
      "text/plain": [
       "array([[  1.  , 199.39, 170.18],\n",
       "       [  1.  , 199.39, 170.18],\n",
       "       [  1.  , 199.39, 170.18],\n",
       "       ...,\n",
       "       [  1.  , 173.99, 165.1 ],\n",
       "       [  1.  , 173.99, 165.1 ],\n",
       "       [  1.  , 173.99, 165.1 ]])"
      ]
     },
     "execution_count": 39,
     "metadata": {},
     "output_type": "execute_result"
    }
   ],
   "source": [
    "#Unos = np.ones(len(Y))\n",
    "X_m = np.array([Unos, X[:,0], X[:,1]]).T\n",
    "X_m"
   ]
  },
  {
   "cell_type": "markdown",
   "metadata": {
    "id": "5WaW_qltULrm"
   },
   "source": [
    "Obtenermos los estimadores mediante la multiplicación de matrices\n",
    "\n",
    "$\\hat{\\beta} = (X^TX)^{-1}X^TY$"
   ]
  },
  {
   "cell_type": "code",
   "execution_count": 40,
   "metadata": {
    "id": "uQo-xhu5ULrm"
   },
   "outputs": [],
   "source": [
    "beta_hat = np.linalg.inv(X_m.T.dot(X_m)).dot(X_m.T).dot(Y)"
   ]
  },
  {
   "cell_type": "code",
   "execution_count": 41,
   "metadata": {
    "id": "Em57FMevULrm",
    "outputId": "3db017ab-0fdc-4b92-93fc-d24dedf9d23b"
   },
   "outputs": [
    {
     "data": {
      "text/plain": [
       "array([  152275.794   , 26792021.448108, 24796247.375148])"
      ]
     },
     "execution_count": 41,
     "metadata": {},
     "output_type": "execute_result"
    }
   ],
   "source": [
    "X_m.T.dot(Y)"
   ]
  },
  {
   "cell_type": "markdown",
   "metadata": {
    "id": "MbEgAxYBULrm"
   },
   "source": [
    "$\\hat{\\beta} = [\\hat{\\beta}_0, \\hat{\\beta}_1,\\hat{\\beta}_2]$"
   ]
  },
  {
   "cell_type": "code",
   "execution_count": 42,
   "metadata": {
    "id": "lS30g4WjULrm",
    "outputId": "2a9f8e5c-faea-4170-d17c-29b2db5da793"
   },
   "outputs": [
    {
     "data": {
      "text/plain": [
       "array([56.66665194,  0.37989697,  0.28321451])"
      ]
     },
     "execution_count": 42,
     "metadata": {},
     "output_type": "execute_result"
    }
   ],
   "source": [
    "beta_hat"
   ]
  },
  {
   "cell_type": "code",
   "execution_count": 43,
   "metadata": {},
   "outputs": [
    {
     "data": {
      "text/plain": [
       "167.986"
      ]
     },
     "execution_count": 43,
     "metadata": {},
     "output_type": "execute_result"
    }
   ],
   "source": [
    "56.666 + 0.37 * 176 + 0.28 * 165"
   ]
  },
  {
   "cell_type": "markdown",
   "metadata": {
    "id": "ogM2nVYYULrm"
   },
   "source": [
    "$\\hat{Y}_i = \\hat{\\beta}_i*X_i+u_i$"
   ]
  },
  {
   "cell_type": "code",
   "execution_count": 44,
   "metadata": {
    "id": "8mil1DVxULrm",
    "outputId": "31747d64-2393-4880-fdf9-cc29a0cd1cd8"
   },
   "outputs": [
    {
     "data": {
      "text/plain": [
       "-3.769486056626192e-09"
      ]
     },
     "execution_count": 44,
     "metadata": {},
     "output_type": "execute_result"
    }
   ],
   "source": [
    "y_hat = X_m.dot(beta_hat)\n",
    "e_hat = y_hat-Y\n",
    "e_hat.sum()"
   ]
  },
  {
   "cell_type": "markdown",
   "metadata": {
    "id": "r1ldg82hULrm"
   },
   "source": [
    "$Var({\\hat\\beta})= \\sigma^2(X^TX)^{-1}$\n",
    "\n",
    "$\\mathbf{e}'\\mathbf{e}/(n-K) = \\hat{\\sigma}^2$"
   ]
  },
  {
   "cell_type": "code",
   "execution_count": 46,
   "metadata": {
    "id": "TJ_5DquZULrm"
   },
   "outputs": [],
   "source": [
    "sigma_2_hat = np.dot( np.transpose(e_hat), e_hat )/(len(e_hat) - len(beta_hat))"
   ]
  },
  {
   "cell_type": "code",
   "execution_count": 47,
   "metadata": {},
   "outputs": [],
   "source": [
    "Var_beta_hat = np.diag( sigma_2_hat * np.linalg.inv(X_m.T.dot(X_m)) ) ** 0.5"
   ]
  },
  {
   "cell_type": "code",
   "execution_count": 48,
   "metadata": {
    "id": "OBuZnLsfULrm",
    "outputId": "cddd659a-4df8-4371-b6d7-8db1b4da9ed1"
   },
   "outputs": [
    {
     "data": {
      "text/plain": [
       "array([10.93951782,  0.0458912 ,  0.04913817])"
      ]
     },
     "execution_count": 48,
     "metadata": {},
     "output_type": "execute_result"
    }
   ],
   "source": [
    "Var_beta_hat"
   ]
  },
  {
   "cell_type": "code",
   "execution_count": 49,
   "metadata": {},
   "outputs": [
    {
     "data": {
      "text/plain": [
       "array([5.1799954 , 8.27820926, 5.76363535])"
      ]
     },
     "execution_count": 49,
     "metadata": {},
     "output_type": "execute_result"
    }
   ],
   "source": [
    "beta_hat / Var_beta_hat"
   ]
  },
  {
   "cell_type": "markdown",
   "metadata": {
    "id": "TnIH_KCZULrm"
   },
   "source": [
    "### MCO con la librería statsmodel"
   ]
  },
  {
   "cell_type": "code",
   "execution_count": 50,
   "metadata": {
    "id": "l3dmMUD5ULrm",
    "outputId": "172a500a-a7fd-498f-aad7-26d94d1d057b"
   },
   "outputs": [
    {
     "name": "stdout",
     "output_type": "stream",
     "text": [
      "                            OLS Regression Results                            \n",
      "==============================================================================\n",
      "Dep. Variable:                 Height   R-squared:                       0.109\n",
      "Model:                            OLS   Adj. R-squared:                  0.107\n",
      "Method:                 Least Squares   F-statistic:                     54.69\n",
      "Date:                Wed, 28 Feb 2024   Prob (F-statistic):           3.92e-23\n",
      "Time:                        08:34:26   Log-Likelihood:                -3205.0\n",
      "No. Observations:                 898   AIC:                             6416.\n",
      "Df Residuals:                     895   BIC:                             6430.\n",
      "Df Model:                           2                                         \n",
      "Covariance Type:            nonrobust                                         \n",
      "==============================================================================\n",
      "                 coef    std err          t      P>|t|      [0.025      0.975]\n",
      "------------------------------------------------------------------------------\n",
      "const         56.6667     10.940      5.180      0.000      35.197      78.137\n",
      "x1             0.3799      0.046      8.278      0.000       0.290       0.470\n",
      "x2             0.2832      0.049      5.764      0.000       0.187       0.380\n",
      "==============================================================================\n",
      "Omnibus:                       45.142   Durbin-Watson:                   1.388\n",
      "Prob(Omnibus):                  0.000   Jarque-Bera (JB):               18.794\n",
      "Skew:                           0.066   Prob(JB):                     8.30e-05\n",
      "Kurtosis:                       2.304   Cond. No.                     9.14e+03\n",
      "==============================================================================\n",
      "\n",
      "Notes:\n",
      "[1] Standard Errors assume that the covariance matrix of the errors is correctly specified.\n",
      "[2] The condition number is large, 9.14e+03. This might indicate that there are\n",
      "strong multicollinearity or other numerical problems.\n"
     ]
    }
   ],
   "source": [
    "### MCO con la librería statsmodel\n",
    "import statsmodels.api as sm\n",
    "\n",
    "X_m = sm.add_constant(X)\n",
    "\n",
    "estimacion = sm.OLS(Y,X_m)\n",
    "est2 = estimacion.fit()\n",
    "print(est2.summary())"
   ]
  },
  {
   "cell_type": "code",
   "execution_count": 51,
   "metadata": {
    "id": "giQrg5_2ULrm",
    "outputId": "5a7d9280-c8dd-47aa-d370-e060414982fb"
   },
   "outputs": [
    {
     "data": {
      "text/plain": [
       "<seaborn.axisgrid.JointGrid at 0x7ff5db913e50>"
      ]
     },
     "execution_count": 51,
     "metadata": {},
     "output_type": "execute_result"
    },
    {
     "data": {
      "image/png": "[encoded data removed]",
      "text/plain": [
       "<Figure size 432x432 with 3 Axes>"
      ]
     },
     "metadata": {
      "needs_background": "light"
     },
     "output_type": "display_data"
    },
    {
     "data": {
      "image/png": "[encoded data removed]",
      "text/plain": [
       "<Figure size 432x432 with 3 Axes>"
      ]
     },
     "metadata": {
      "needs_background": "light"
     },
     "output_type": "display_data"
    }
   ],
   "source": [
    "sns.jointplot(x=\"Mother\", y=\"Height\", data=df, kind='reg')\n",
    "sns.jointplot(x=\"Father\", y=\"Height\", data=df, kind='reg')"
   ]
  },
  {
   "cell_type": "markdown",
   "metadata": {
    "id": "OpMaKHEqULrm"
   },
   "source": [
    "## 4.- Resumen de la sesión"
   ]
  },
  {
   "cell_type": "markdown",
   "metadata": {
    "id": "JydtImHzULrm"
   },
   "source": [
    "* Revisamos como clonar el repo de la clase y el modo en que lo pueden actualizar cada que sea necesario así como la manera en que podemos seguir el curso sin necesidad de instalar programas en la computadora personal.\n",
    "* Motivos importantes para aprender python y aplicaciones principales\n",
    "* Algunos de los elementos más básicos de python\n",
    "    - Operadores matemáticos y lógicos\n",
    "    - Tipos de objetos y asignaciones\n",
    "    - Tipos de secuencias de datos\n",
    "    - Funciones, estructuras de control y librerías\n",
    "* Ejemplo práctico para llegar a la solución de mínimos cuadrados ordinarios con la librería numpy y statsmodels"
   ]
  },
  {
   "cell_type": "markdown",
   "metadata": {
    "id": "VGyOEZyeULrm"
   },
   "source": [
    "## 5.- Recursos para aprender Python"
   ]
  },
  {
   "cell_type": "markdown",
   "metadata": {
    "id": "HcHp2P1eULrm"
   },
   "source": [
    "### Cursos\n",
    "\n",
    "* Python for Everybody (Coursera & Michigan)\n",
    "* Statistics with Python (Coursera & Michigan)\n",
    "* Python for Data Science (Coursera & Michigan)\n",
    "* Certificado profesional de Ciencia de datos (IBM)\n"
   ]
  },
  {
   "cell_type": "markdown",
   "metadata": {
    "id": "VZI-RSfaULrn"
   },
   "source": [
    "### Libros\n",
    "\n",
    " * Python for everybody\n",
    " * Think python"
   ]
  },
  {
   "cell_type": "markdown",
   "metadata": {
    "id": "Z4lcKgdEULrn"
   },
   "source": [
    "### Recomendaciones\n",
    "\n",
    "* Saber programar en gran medida es saber leer errores, no se asusten por equivocarse. Aprendan de sus errores, suena muy trillado pero para programar es esencial\n",
    "* Buscar el error en _stack overflow_ siempre es de gran ayuda\n",
    "* Hagan proyectos colaborativos, aprovechen la oportunidad de aprender haciendo en equipo."
   ]
  },
  {
   "cell_type": "markdown",
   "metadata": {
    "id": "O42Ai0UdULrn"
   },
   "source": [
    "## 6.- Extra: solucion de problemas con python"
   ]
  },
  {
   "cell_type": "markdown",
   "metadata": {
    "id": "2sDbfGdYULrn"
   },
   "source": [
    "Planteamiento: en un tablero de ajedrez de 4x4 colocar 4 reinas de tal modo que no se hagan daño entre sí  "
   ]
  },
  {
   "cell_type": "markdown",
   "metadata": {
    "id": "ZfREXEB0ULrn"
   },
   "source": [
    "![NQueens](https://github.com/benjov/Econometria-II-2024/blob/main/Clase_intro_ToolBox/StepsNQueens04.png?raw=1)"
   ]
  },
  {
   "cell_type": "markdown",
   "metadata": {
    "id": "qw-XsBVDULrn"
   },
   "source": [
    "¿De qué manera podemos solucionar el problema para N =8)"
   ]
  },
  {
   "cell_type": "markdown",
   "metadata": {
    "id": "cQRK8IwpULrn"
   },
   "source": [
    "![8Queens](https://github.com/benjov/Econometria-II-2024/blob/main/Clase_intro_ToolBox/queens_attack_patterns.png?raw=1)"
   ]
  },
  {
   "cell_type": "code",
   "execution_count": null,
   "metadata": {
    "id": "YepNxf0qULrn",
    "outputId": "da849aae-ac9b-430c-e3a3-b3b2e16137b4"
   },
   "outputs": [
    {
     "name": "stdout",
     "output_type": "stream",
     "text": [
      "Solution 1: (0, 4, 7, 5, 2, 6, 1, 3)\n",
      "\n",
      " X  o  o  o  o  o  o  o \n",
      " o  o  o  o  X  o  o  o \n",
      " o  o  o  o  o  o  o  X \n",
      " o  o  o  o  o  X  o  o \n",
      " o  o  X  o  o  o  o  o \n",
      " o  o  o  o  o  o  X  o \n",
      " o  X  o  o  o  o  o  o \n",
      " o  o  o  X  o  o  o  o \n",
      "\n",
      "\n",
      "\n",
      "\n",
      "Solution 2: (0, 5, 7, 2, 6, 3, 1, 4)\n",
      "\n",
      " X  o  o  o  o  o  o  o \n",
      " o  o  o  o  o  X  o  o \n",
      " o  o  o  o  o  o  o  X \n",
      " o  o  X  o  o  o  o  o \n",
      " o  o  o  o  o  o  X  o \n",
      " o  o  o  X  o  o  o  o \n",
      " o  X  o  o  o  o  o  o \n",
      " o  o  o  o  X  o  o  o \n",
      "\n",
      "\n",
      "\n",
      "\n",
      "Solution 3: (0, 6, 3, 5, 7, 1, 4, 2)\n",
      "\n",
      " X  o  o  o  o  o  o  o \n",
      " o  o  o  o  o  o  X  o \n",
      " o  o  o  X  o  o  o  o \n",
      " o  o  o  o  o  X  o  o \n",
      " o  o  o  o  o  o  o  X \n",
      " o  X  o  o  o  o  o  o \n",
      " o  o  o  o  X  o  o  o \n",
      " o  o  X  o  o  o  o  o \n",
      "\n",
      "\n",
      "\n",
      "\n",
      "Solution 4: (0, 6, 4, 7, 1, 3, 5, 2)\n",
      "\n",
      " X  o  o  o  o  o  o  o \n",
      " o  o  o  o  o  o  X  o \n",
      " o  o  o  o  X  o  o  o \n",
      " o  o  o  o  o  o  o  X \n",
      " o  X  o  o  o  o  o  o \n",
      " o  o  o  X  o  o  o  o \n",
      " o  o  o  o  o  X  o  o \n",
      " o  o  X  o  o  o  o  o \n",
      "\n",
      "\n",
      "\n",
      "\n",
      "Solution 5: (1, 3, 5, 7, 2, 0, 6, 4)\n",
      "\n",
      " o  X  o  o  o  o  o  o \n",
      " o  o  o  X  o  o  o  o \n",
      " o  o  o  o  o  X  o  o \n",
      " o  o  o  o  o  o  o  X \n",
      " o  o  X  o  o  o  o  o \n",
      " X  o  o  o  o  o  o  o \n",
      " o  o  o  o  o  o  X  o \n",
      " o  o  o  o  X  o  o  o \n",
      "\n",
      "\n",
      "\n",
      "\n",
      "Solution 6: (1, 4, 6, 0, 2, 7, 5, 3)\n",
      "\n",
      " o  X  o  o  o  o  o  o \n",
      " o  o  o  o  X  o  o  o \n",
      " o  o  o  o  o  o  X  o \n",
      " X  o  o  o  o  o  o  o \n",
      " o  o  X  o  o  o  o  o \n",
      " o  o  o  o  o  o  o  X \n",
      " o  o  o  o  o  X  o  o \n",
      " o  o  o  X  o  o  o  o \n",
      "\n",
      "\n",
      "\n",
      "\n",
      "Solution 7: (1, 4, 6, 3, 0, 7, 5, 2)\n",
      "\n",
      " o  X  o  o  o  o  o  o \n",
      " o  o  o  o  X  o  o  o \n",
      " o  o  o  o  o  o  X  o \n",
      " o  o  o  X  o  o  o  o \n",
      " X  o  o  o  o  o  o  o \n",
      " o  o  o  o  o  o  o  X \n",
      " o  o  o  o  o  X  o  o \n",
      " o  o  X  o  o  o  o  o \n",
      "\n",
      "\n",
      "\n",
      "\n",
      "Solution 8: (1, 5, 0, 6, 3, 7, 2, 4)\n",
      "\n",
      " o  X  o  o  o  o  o  o \n",
      " o  o  o  o  o  X  o  o \n",
      " X  o  o  o  o  o  o  o \n",
      " o  o  o  o  o  o  X  o \n",
      " o  o  o  X  o  o  o  o \n",
      " o  o  o  o  o  o  o  X \n",
      " o  o  X  o  o  o  o  o \n",
      " o  o  o  o  X  o  o  o \n",
      "\n",
      "\n",
      "\n",
      "\n",
      "Solution 9: (1, 5, 7, 2, 0, 3, 6, 4)\n",
      "\n",
      " o  X  o  o  o  o  o  o \n",
      " o  o  o  o  o  X  o  o \n",
      " o  o  o  o  o  o  o  X \n",
      " o  o  X  o  o  o  o  o \n",
      " X  o  o  o  o  o  o  o \n",
      " o  o  o  X  o  o  o  o \n",
      " o  o  o  o  o  o  X  o \n",
      " o  o  o  o  X  o  o  o \n",
      "\n",
      "\n",
      "\n",
      "\n",
      "Solution 10: (1, 6, 2, 5, 7, 4, 0, 3)\n",
      "\n",
      " o  X  o  o  o  o  o  o \n",
      " o  o  o  o  o  o  X  o \n",
      " o  o  X  o  o  o  o  o \n",
      " o  o  o  o  o  X  o  o \n",
      " o  o  o  o  o  o  o  X \n",
      " o  o  o  o  X  o  o  o \n",
      " X  o  o  o  o  o  o  o \n",
      " o  o  o  X  o  o  o  o \n",
      "\n",
      "\n",
      "\n",
      "\n",
      "Solution 11: (1, 6, 4, 7, 0, 3, 5, 2)\n",
      "\n",
      " o  X  o  o  o  o  o  o \n",
      " o  o  o  o  o  o  X  o \n",
      " o  o  o  o  X  o  o  o \n",
      " o  o  o  o  o  o  o  X \n",
      " X  o  o  o  o  o  o  o \n",
      " o  o  o  X  o  o  o  o \n",
      " o  o  o  o  o  X  o  o \n",
      " o  o  X  o  o  o  o  o \n",
      "\n",
      "\n",
      "\n",
      "\n",
      "Solution 12: (1, 7, 5, 0, 2, 4, 6, 3)\n",
      "\n",
      " o  X  o  o  o  o  o  o \n",
      " o  o  o  o  o  o  o  X \n",
      " o  o  o  o  o  X  o  o \n",
      " X  o  o  o  o  o  o  o \n",
      " o  o  X  o  o  o  o  o \n",
      " o  o  o  o  X  o  o  o \n",
      " o  o  o  o  o  o  X  o \n",
      " o  o  o  X  o  o  o  o \n",
      "\n",
      "\n",
      "\n",
      "\n",
      "Solution 13: (2, 0, 6, 4, 7, 1, 3, 5)\n",
      "\n",
      " o  o  X  o  o  o  o  o \n",
      " X  o  o  o  o  o  o  o \n",
      " o  o  o  o  o  o  X  o \n",
      " o  o  o  o  X  o  o  o \n",
      " o  o  o  o  o  o  o  X \n",
      " o  X  o  o  o  o  o  o \n",
      " o  o  o  X  o  o  o  o \n",
      " o  o  o  o  o  X  o  o \n",
      "\n",
      "\n",
      "\n",
      "\n",
      "Solution 14: (2, 4, 1, 7, 0, 6, 3, 5)\n",
      "\n",
      " o  o  X  o  o  o  o  o \n",
      " o  o  o  o  X  o  o  o \n",
      " o  X  o  o  o  o  o  o \n",
      " o  o  o  o  o  o  o  X \n",
      " X  o  o  o  o  o  o  o \n",
      " o  o  o  o  o  o  X  o \n",
      " o  o  o  X  o  o  o  o \n",
      " o  o  o  o  o  X  o  o \n",
      "\n",
      "\n",
      "\n",
      "\n",
      "Solution 15: (2, 4, 1, 7, 5, 3, 6, 0)\n",
      "\n",
      " o  o  X  o  o  o  o  o \n",
      " o  o  o  o  X  o  o  o \n",
      " o  X  o  o  o  o  o  o \n",
      " o  o  o  o  o  o  o  X \n",
      " o  o  o  o  o  X  o  o \n",
      " o  o  o  X  o  o  o  o \n",
      " o  o  o  o  o  o  X  o \n",
      " X  o  o  o  o  o  o  o \n",
      "\n",
      "\n",
      "\n",
      "\n",
      "Solution 16: (2, 4, 6, 0, 3, 1, 7, 5)\n",
      "\n",
      " o  o  X  o  o  o  o  o \n",
      " o  o  o  o  X  o  o  o \n",
      " o  o  o  o  o  o  X  o \n",
      " X  o  o  o  o  o  o  o \n",
      " o  o  o  X  o  o  o  o \n",
      " o  X  o  o  o  o  o  o \n",
      " o  o  o  o  o  o  o  X \n",
      " o  o  o  o  o  X  o  o \n",
      "\n",
      "\n",
      "\n",
      "\n",
      "Solution 17: (2, 4, 7, 3, 0, 6, 1, 5)\n",
      "\n",
      " o  o  X  o  o  o  o  o \n",
      " o  o  o  o  X  o  o  o \n",
      " o  o  o  o  o  o  o  X \n",
      " o  o  o  X  o  o  o  o \n",
      " X  o  o  o  o  o  o  o \n",
      " o  o  o  o  o  o  X  o \n",
      " o  X  o  o  o  o  o  o \n",
      " o  o  o  o  o  X  o  o \n",
      "\n",
      "\n",
      "\n",
      "\n",
      "Solution 18: (2, 5, 1, 4, 7, 0, 6, 3)\n",
      "\n",
      " o  o  X  o  o  o  o  o \n",
      " o  o  o  o  o  X  o  o \n",
      " o  X  o  o  o  o  o  o \n",
      " o  o  o  o  X  o  o  o \n",
      " o  o  o  o  o  o  o  X \n",
      " X  o  o  o  o  o  o  o \n",
      " o  o  o  o  o  o  X  o \n",
      " o  o  o  X  o  o  o  o \n",
      "\n",
      "\n",
      "\n",
      "\n",
      "Solution 19: (2, 5, 1, 6, 0, 3, 7, 4)\n",
      "\n",
      " o  o  X  o  o  o  o  o \n",
      " o  o  o  o  o  X  o  o \n",
      " o  X  o  o  o  o  o  o \n",
      " o  o  o  o  o  o  X  o \n",
      " X  o  o  o  o  o  o  o \n",
      " o  o  o  X  o  o  o  o \n",
      " o  o  o  o  o  o  o  X \n",
      " o  o  o  o  X  o  o  o \n",
      "\n",
      "\n",
      "\n",
      "\n",
      "Solution 20: (2, 5, 1, 6, 4, 0, 7, 3)\n",
      "\n",
      " o  o  X  o  o  o  o  o \n",
      " o  o  o  o  o  X  o  o \n",
      " o  X  o  o  o  o  o  o \n",
      " o  o  o  o  o  o  X  o \n",
      " o  o  o  o  X  o  o  o \n",
      " X  o  o  o  o  o  o  o \n",
      " o  o  o  o  o  o  o  X \n",
      " o  o  o  X  o  o  o  o \n",
      "\n",
      "\n",
      "\n",
      "\n",
      "Solution 21: (2, 5, 3, 0, 7, 4, 6, 1)\n",
      "\n",
      " o  o  X  o  o  o  o  o \n",
      " o  o  o  o  o  X  o  o \n",
      " o  o  o  X  o  o  o  o \n",
      " X  o  o  o  o  o  o  o \n",
      " o  o  o  o  o  o  o  X \n",
      " o  o  o  o  X  o  o  o \n",
      " o  o  o  o  o  o  X  o \n",
      " o  X  o  o  o  o  o  o \n",
      "\n",
      "\n",
      "\n",
      "\n",
      "Solution 22: (2, 5, 3, 1, 7, 4, 6, 0)\n",
      "\n",
      " o  o  X  o  o  o  o  o \n",
      " o  o  o  o  o  X  o  o \n",
      " o  o  o  X  o  o  o  o \n",
      " o  X  o  o  o  o  o  o \n",
      " o  o  o  o  o  o  o  X \n",
      " o  o  o  o  X  o  o  o \n",
      " o  o  o  o  o  o  X  o \n",
      " X  o  o  o  o  o  o  o \n",
      "\n",
      "\n",
      "\n",
      "\n",
      "Solution 23: (2, 5, 7, 0, 3, 6, 4, 1)\n",
      "\n",
      " o  o  X  o  o  o  o  o \n",
      " o  o  o  o  o  X  o  o \n",
      " o  o  o  o  o  o  o  X \n",
      " X  o  o  o  o  o  o  o \n",
      " o  o  o  X  o  o  o  o \n",
      " o  o  o  o  o  o  X  o \n",
      " o  o  o  o  X  o  o  o \n",
      " o  X  o  o  o  o  o  o \n",
      "\n",
      "\n",
      "\n",
      "\n",
      "Solution 24: (2, 5, 7, 0, 4, 6, 1, 3)\n",
      "\n",
      " o  o  X  o  o  o  o  o \n",
      " o  o  o  o  o  X  o  o \n",
      " o  o  o  o  o  o  o  X \n",
      " X  o  o  o  o  o  o  o \n",
      " o  o  o  o  X  o  o  o \n",
      " o  o  o  o  o  o  X  o \n",
      " o  X  o  o  o  o  o  o \n",
      " o  o  o  X  o  o  o  o \n",
      "\n",
      "\n",
      "\n",
      "\n",
      "Solution 25: (2, 5, 7, 1, 3, 0, 6, 4)\n",
      "\n",
      " o  o  X  o  o  o  o  o \n",
      " o  o  o  o  o  X  o  o \n",
      " o  o  o  o  o  o  o  X \n",
      " o  X  o  o  o  o  o  o \n",
      " o  o  o  X  o  o  o  o \n",
      " X  o  o  o  o  o  o  o \n",
      " o  o  o  o  o  o  X  o \n",
      " o  o  o  o  X  o  o  o \n",
      "\n",
      "\n",
      "\n",
      "\n",
      "Solution 26: (2, 6, 1, 7, 4, 0, 3, 5)\n",
      "\n",
      " o  o  X  o  o  o  o  o \n",
      " o  o  o  o  o  o  X  o \n",
      " o  X  o  o  o  o  o  o \n",
      " o  o  o  o  o  o  o  X \n",
      " o  o  o  o  X  o  o  o \n",
      " X  o  o  o  o  o  o  o \n",
      " o  o  o  X  o  o  o  o \n",
      " o  o  o  o  o  X  o  o \n",
      "\n",
      "\n",
      "\n",
      "\n",
      "Solution 27: (2, 6, 1, 7, 5, 3, 0, 4)\n",
      "\n",
      " o  o  X  o  o  o  o  o \n",
      " o  o  o  o  o  o  X  o \n",
      " o  X  o  o  o  o  o  o \n",
      " o  o  o  o  o  o  o  X \n",
      " o  o  o  o  o  X  o  o \n",
      " o  o  o  X  o  o  o  o \n",
      " X  o  o  o  o  o  o  o \n",
      " o  o  o  o  X  o  o  o \n",
      "\n",
      "\n",
      "\n",
      "\n",
      "Solution 28: (2, 7, 3, 6, 0, 5, 1, 4)\n",
      "\n",
      " o  o  X  o  o  o  o  o \n",
      " o  o  o  o  o  o  o  X \n",
      " o  o  o  X  o  o  o  o \n",
      " o  o  o  o  o  o  X  o \n",
      " X  o  o  o  o  o  o  o \n",
      " o  o  o  o  o  X  o  o \n",
      " o  X  o  o  o  o  o  o \n",
      " o  o  o  o  X  o  o  o \n",
      "\n",
      "\n",
      "\n",
      "\n",
      "Solution 29: (3, 0, 4, 7, 1, 6, 2, 5)\n",
      "\n",
      " o  o  o  X  o  o  o  o \n",
      " X  o  o  o  o  o  o  o \n",
      " o  o  o  o  X  o  o  o \n",
      " o  o  o  o  o  o  o  X \n",
      " o  X  o  o  o  o  o  o \n",
      " o  o  o  o  o  o  X  o \n",
      " o  o  X  o  o  o  o  o \n",
      " o  o  o  o  o  X  o  o \n",
      "\n",
      "\n",
      "\n",
      "\n",
      "Solution 30: (3, 0, 4, 7, 5, 2, 6, 1)\n",
      "\n",
      " o  o  o  X  o  o  o  o \n",
      " X  o  o  o  o  o  o  o \n",
      " o  o  o  o  X  o  o  o \n",
      " o  o  o  o  o  o  o  X \n",
      " o  o  o  o  o  X  o  o \n",
      " o  o  X  o  o  o  o  o \n",
      " o  o  o  o  o  o  X  o \n",
      " o  X  o  o  o  o  o  o \n",
      "\n",
      "\n",
      "\n",
      "\n",
      "Solution 31: (3, 1, 4, 7, 5, 0, 2, 6)\n",
      "\n",
      " o  o  o  X  o  o  o  o \n",
      " o  X  o  o  o  o  o  o \n",
      " o  o  o  o  X  o  o  o \n",
      " o  o  o  o  o  o  o  X \n",
      " o  o  o  o  o  X  o  o \n",
      " X  o  o  o  o  o  o  o \n",
      " o  o  X  o  o  o  o  o \n",
      " o  o  o  o  o  o  X  o \n",
      "\n",
      "\n",
      "\n",
      "\n",
      "Solution 32: (3, 1, 6, 2, 5, 7, 0, 4)\n",
      "\n",
      " o  o  o  X  o  o  o  o \n",
      " o  X  o  o  o  o  o  o \n",
      " o  o  o  o  o  o  X  o \n",
      " o  o  X  o  o  o  o  o \n",
      " o  o  o  o  o  X  o  o \n",
      " o  o  o  o  o  o  o  X \n",
      " X  o  o  o  o  o  o  o \n",
      " o  o  o  o  X  o  o  o \n",
      "\n",
      "\n",
      "\n",
      "\n",
      "Solution 33: (3, 1, 6, 2, 5, 7, 4, 0)\n",
      "\n",
      " o  o  o  X  o  o  o  o \n",
      " o  X  o  o  o  o  o  o \n",
      " o  o  o  o  o  o  X  o \n",
      " o  o  X  o  o  o  o  o \n",
      " o  o  o  o  o  X  o  o \n",
      " o  o  o  o  o  o  o  X \n",
      " o  o  o  o  X  o  o  o \n",
      " X  o  o  o  o  o  o  o \n",
      "\n",
      "\n",
      "\n",
      "\n",
      "Solution 34: (3, 1, 6, 4, 0, 7, 5, 2)\n",
      "\n",
      " o  o  o  X  o  o  o  o \n",
      " o  X  o  o  o  o  o  o \n",
      " o  o  o  o  o  o  X  o \n",
      " o  o  o  o  X  o  o  o \n",
      " X  o  o  o  o  o  o  o \n",
      " o  o  o  o  o  o  o  X \n",
      " o  o  o  o  o  X  o  o \n",
      " o  o  X  o  o  o  o  o \n",
      "\n",
      "\n",
      "\n",
      "\n",
      "Solution 35: (3, 1, 7, 4, 6, 0, 2, 5)\n",
      "\n",
      " o  o  o  X  o  o  o  o \n",
      " o  X  o  o  o  o  o  o \n",
      " o  o  o  o  o  o  o  X \n",
      " o  o  o  o  X  o  o  o \n",
      " o  o  o  o  o  o  X  o \n",
      " X  o  o  o  o  o  o  o \n",
      " o  o  X  o  o  o  o  o \n",
      " o  o  o  o  o  X  o  o \n",
      "\n",
      "\n",
      "\n",
      "\n",
      "Solution 36: (3, 1, 7, 5, 0, 2, 4, 6)\n",
      "\n",
      " o  o  o  X  o  o  o  o \n",
      " o  X  o  o  o  o  o  o \n",
      " o  o  o  o  o  o  o  X \n",
      " o  o  o  o  o  X  o  o \n",
      " X  o  o  o  o  o  o  o \n",
      " o  o  X  o  o  o  o  o \n",
      " o  o  o  o  X  o  o  o \n",
      " o  o  o  o  o  o  X  o \n",
      "\n",
      "\n",
      "\n",
      "\n",
      "Solution 37: (3, 5, 0, 4, 1, 7, 2, 6)\n",
      "\n",
      " o  o  o  X  o  o  o  o \n",
      " o  o  o  o  o  X  o  o \n",
      " X  o  o  o  o  o  o  o \n",
      " o  o  o  o  X  o  o  o \n",
      " o  X  o  o  o  o  o  o \n",
      " o  o  o  o  o  o  o  X \n",
      " o  o  X  o  o  o  o  o \n",
      " o  o  o  o  o  o  X  o \n",
      "\n",
      "\n",
      "\n",
      "\n",
      "Solution 38: (3, 5, 7, 1, 6, 0, 2, 4)\n",
      "\n",
      " o  o  o  X  o  o  o  o \n",
      " o  o  o  o  o  X  o  o \n",
      " o  o  o  o  o  o  o  X \n",
      " o  X  o  o  o  o  o  o \n",
      " o  o  o  o  o  o  X  o \n",
      " X  o  o  o  o  o  o  o \n",
      " o  o  X  o  o  o  o  o \n",
      " o  o  o  o  X  o  o  o \n",
      "\n",
      "\n",
      "\n",
      "\n",
      "Solution 39: (3, 5, 7, 2, 0, 6, 4, 1)\n",
      "\n",
      " o  o  o  X  o  o  o  o \n",
      " o  o  o  o  o  X  o  o \n",
      " o  o  o  o  o  o  o  X \n",
      " o  o  X  o  o  o  o  o \n",
      " X  o  o  o  o  o  o  o \n",
      " o  o  o  o  o  o  X  o \n",
      " o  o  o  o  X  o  o  o \n",
      " o  X  o  o  o  o  o  o \n",
      "\n",
      "\n",
      "\n",
      "\n",
      "Solution 40: (3, 6, 0, 7, 4, 1, 5, 2)\n",
      "\n",
      " o  o  o  X  o  o  o  o \n",
      " o  o  o  o  o  o  X  o \n",
      " X  o  o  o  o  o  o  o \n",
      " o  o  o  o  o  o  o  X \n",
      " o  o  o  o  X  o  o  o \n",
      " o  X  o  o  o  o  o  o \n",
      " o  o  o  o  o  X  o  o \n",
      " o  o  X  o  o  o  o  o \n",
      "\n",
      "\n",
      "\n",
      "\n",
      "Solution 41: (3, 6, 2, 7, 1, 4, 0, 5)\n",
      "\n",
      " o  o  o  X  o  o  o  o \n",
      " o  o  o  o  o  o  X  o \n",
      " o  o  X  o  o  o  o  o \n",
      " o  o  o  o  o  o  o  X \n",
      " o  X  o  o  o  o  o  o \n",
      " o  o  o  o  X  o  o  o \n",
      " X  o  o  o  o  o  o  o \n",
      " o  o  o  o  o  X  o  o \n",
      "\n",
      "\n",
      "\n",
      "\n",
      "Solution 42: (3, 6, 4, 1, 5, 0, 2, 7)\n",
      "\n",
      " o  o  o  X  o  o  o  o \n",
      " o  o  o  o  o  o  X  o \n",
      " o  o  o  o  X  o  o  o \n",
      " o  X  o  o  o  o  o  o \n",
      " o  o  o  o  o  X  o  o \n",
      " X  o  o  o  o  o  o  o \n",
      " o  o  X  o  o  o  o  o \n",
      " o  o  o  o  o  o  o  X \n",
      "\n",
      "\n",
      "\n",
      "\n",
      "Solution 43: (3, 6, 4, 2, 0, 5, 7, 1)\n",
      "\n",
      " o  o  o  X  o  o  o  o \n",
      " o  o  o  o  o  o  X  o \n",
      " o  o  o  o  X  o  o  o \n",
      " o  o  X  o  o  o  o  o \n",
      " X  o  o  o  o  o  o  o \n",
      " o  o  o  o  o  X  o  o \n",
      " o  o  o  o  o  o  o  X \n",
      " o  X  o  o  o  o  o  o \n",
      "\n",
      "\n",
      "\n",
      "\n",
      "Solution 44: (3, 7, 0, 2, 5, 1, 6, 4)\n",
      "\n",
      " o  o  o  X  o  o  o  o \n",
      " o  o  o  o  o  o  o  X \n",
      " X  o  o  o  o  o  o  o \n",
      " o  o  X  o  o  o  o  o \n",
      " o  o  o  o  o  X  o  o \n",
      " o  X  o  o  o  o  o  o \n",
      " o  o  o  o  o  o  X  o \n",
      " o  o  o  o  X  o  o  o \n",
      "\n",
      "\n",
      "\n",
      "\n",
      "Solution 45: (3, 7, 0, 4, 6, 1, 5, 2)\n",
      "\n",
      " o  o  o  X  o  o  o  o \n",
      " o  o  o  o  o  o  o  X \n",
      " X  o  o  o  o  o  o  o \n",
      " o  o  o  o  X  o  o  o \n",
      " o  o  o  o  o  o  X  o \n",
      " o  X  o  o  o  o  o  o \n",
      " o  o  o  o  o  X  o  o \n",
      " o  o  X  o  o  o  o  o \n",
      "\n",
      "\n",
      "\n",
      "\n",
      "Solution 46: (3, 7, 4, 2, 0, 6, 1, 5)\n",
      "\n",
      " o  o  o  X  o  o  o  o \n",
      " o  o  o  o  o  o  o  X \n",
      " o  o  o  o  X  o  o  o \n",
      " o  o  X  o  o  o  o  o \n",
      " X  o  o  o  o  o  o  o \n",
      " o  o  o  o  o  o  X  o \n",
      " o  X  o  o  o  o  o  o \n",
      " o  o  o  o  o  X  o  o \n",
      "\n",
      "\n",
      "\n",
      "\n",
      "Solution 47: (4, 0, 3, 5, 7, 1, 6, 2)\n",
      "\n",
      " o  o  o  o  X  o  o  o \n",
      " X  o  o  o  o  o  o  o \n",
      " o  o  o  X  o  o  o  o \n",
      " o  o  o  o  o  X  o  o \n",
      " o  o  o  o  o  o  o  X \n",
      " o  X  o  o  o  o  o  o \n",
      " o  o  o  o  o  o  X  o \n",
      " o  o  X  o  o  o  o  o \n",
      "\n",
      "\n",
      "\n",
      "\n",
      "Solution 48: (4, 0, 7, 3, 1, 6, 2, 5)\n",
      "\n",
      " o  o  o  o  X  o  o  o \n",
      " X  o  o  o  o  o  o  o \n",
      " o  o  o  o  o  o  o  X \n",
      " o  o  o  X  o  o  o  o \n",
      " o  X  o  o  o  o  o  o \n",
      " o  o  o  o  o  o  X  o \n",
      " o  o  X  o  o  o  o  o \n",
      " o  o  o  o  o  X  o  o \n",
      "\n",
      "\n",
      "\n",
      "\n",
      "Solution 49: (4, 0, 7, 5, 2, 6, 1, 3)\n",
      "\n",
      " o  o  o  o  X  o  o  o \n",
      " X  o  o  o  o  o  o  o \n",
      " o  o  o  o  o  o  o  X \n",
      " o  o  o  o  o  X  o  o \n",
      " o  o  X  o  o  o  o  o \n",
      " o  o  o  o  o  o  X  o \n",
      " o  X  o  o  o  o  o  o \n",
      " o  o  o  X  o  o  o  o \n",
      "\n",
      "\n",
      "\n",
      "\n",
      "Solution 50: (4, 1, 3, 5, 7, 2, 0, 6)\n",
      "\n",
      " o  o  o  o  X  o  o  o \n",
      " o  X  o  o  o  o  o  o \n",
      " o  o  o  X  o  o  o  o \n",
      " o  o  o  o  o  X  o  o \n",
      " o  o  o  o  o  o  o  X \n",
      " o  o  X  o  o  o  o  o \n",
      " X  o  o  o  o  o  o  o \n",
      " o  o  o  o  o  o  X  o \n",
      "\n",
      "\n",
      "\n",
      "\n",
      "Solution 51: (4, 1, 3, 6, 2, 7, 5, 0)\n",
      "\n",
      " o  o  o  o  X  o  o  o \n",
      " o  X  o  o  o  o  o  o \n",
      " o  o  o  X  o  o  o  o \n",
      " o  o  o  o  o  o  X  o \n",
      " o  o  X  o  o  o  o  o \n",
      " o  o  o  o  o  o  o  X \n",
      " o  o  o  o  o  X  o  o \n",
      " X  o  o  o  o  o  o  o \n",
      "\n",
      "\n",
      "\n",
      "\n",
      "Solution 52: (4, 1, 5, 0, 6, 3, 7, 2)\n",
      "\n",
      " o  o  o  o  X  o  o  o \n",
      " o  X  o  o  o  o  o  o \n",
      " o  o  o  o  o  X  o  o \n",
      " X  o  o  o  o  o  o  o \n",
      " o  o  o  o  o  o  X  o \n",
      " o  o  o  X  o  o  o  o \n",
      " o  o  o  o  o  o  o  X \n",
      " o  o  X  o  o  o  o  o \n",
      "\n",
      "\n",
      "\n",
      "\n",
      "Solution 53: (4, 1, 7, 0, 3, 6, 2, 5)\n",
      "\n",
      " o  o  o  o  X  o  o  o \n",
      " o  X  o  o  o  o  o  o \n",
      " o  o  o  o  o  o  o  X \n",
      " X  o  o  o  o  o  o  o \n",
      " o  o  o  X  o  o  o  o \n",
      " o  o  o  o  o  o  X  o \n",
      " o  o  X  o  o  o  o  o \n",
      " o  o  o  o  o  X  o  o \n",
      "\n",
      "\n",
      "\n",
      "\n",
      "Solution 54: (4, 2, 0, 5, 7, 1, 3, 6)\n",
      "\n",
      " o  o  o  o  X  o  o  o \n",
      " o  o  X  o  o  o  o  o \n",
      " X  o  o  o  o  o  o  o \n",
      " o  o  o  o  o  X  o  o \n",
      " o  o  o  o  o  o  o  X \n",
      " o  X  o  o  o  o  o  o \n",
      " o  o  o  X  o  o  o  o \n",
      " o  o  o  o  o  o  X  o \n",
      "\n",
      "\n",
      "\n",
      "\n",
      "Solution 55: (4, 2, 0, 6, 1, 7, 5, 3)\n",
      "\n",
      " o  o  o  o  X  o  o  o \n",
      " o  o  X  o  o  o  o  o \n",
      " X  o  o  o  o  o  o  o \n",
      " o  o  o  o  o  o  X  o \n",
      " o  X  o  o  o  o  o  o \n",
      " o  o  o  o  o  o  o  X \n",
      " o  o  o  o  o  X  o  o \n",
      " o  o  o  X  o  o  o  o \n",
      "\n",
      "\n",
      "\n",
      "\n",
      "Solution 56: (4, 2, 7, 3, 6, 0, 5, 1)\n",
      "\n",
      " o  o  o  o  X  o  o  o \n",
      " o  o  X  o  o  o  o  o \n",
      " o  o  o  o  o  o  o  X \n",
      " o  o  o  X  o  o  o  o \n",
      " o  o  o  o  o  o  X  o \n",
      " X  o  o  o  o  o  o  o \n",
      " o  o  o  o  o  X  o  o \n",
      " o  X  o  o  o  o  o  o \n",
      "\n",
      "\n",
      "\n",
      "\n",
      "Solution 57: (4, 6, 0, 2, 7, 5, 3, 1)\n",
      "\n",
      " o  o  o  o  X  o  o  o \n",
      " o  o  o  o  o  o  X  o \n",
      " X  o  o  o  o  o  o  o \n",
      " o  o  X  o  o  o  o  o \n",
      " o  o  o  o  o  o  o  X \n",
      " o  o  o  o  o  X  o  o \n",
      " o  o  o  X  o  o  o  o \n",
      " o  X  o  o  o  o  o  o \n",
      "\n",
      "\n",
      "\n",
      "\n",
      "Solution 58: (4, 6, 0, 3, 1, 7, 5, 2)\n",
      "\n",
      " o  o  o  o  X  o  o  o \n",
      " o  o  o  o  o  o  X  o \n",
      " X  o  o  o  o  o  o  o \n",
      " o  o  o  X  o  o  o  o \n",
      " o  X  o  o  o  o  o  o \n",
      " o  o  o  o  o  o  o  X \n",
      " o  o  o  o  o  X  o  o \n",
      " o  o  X  o  o  o  o  o \n",
      "\n",
      "\n",
      "\n",
      "\n",
      "Solution 59: (4, 6, 1, 3, 7, 0, 2, 5)\n",
      "\n",
      " o  o  o  o  X  o  o  o \n",
      " o  o  o  o  o  o  X  o \n",
      " o  X  o  o  o  o  o  o \n",
      " o  o  o  X  o  o  o  o \n",
      " o  o  o  o  o  o  o  X \n",
      " X  o  o  o  o  o  o  o \n",
      " o  o  X  o  o  o  o  o \n",
      " o  o  o  o  o  X  o  o \n",
      "\n",
      "\n",
      "\n",
      "\n",
      "Solution 60: (4, 6, 1, 5, 2, 0, 3, 7)\n",
      "\n",
      " o  o  o  o  X  o  o  o \n",
      " o  o  o  o  o  o  X  o \n",
      " o  X  o  o  o  o  o  o \n",
      " o  o  o  o  o  X  o  o \n",
      " o  o  X  o  o  o  o  o \n",
      " X  o  o  o  o  o  o  o \n",
      " o  o  o  X  o  o  o  o \n",
      " o  o  o  o  o  o  o  X \n",
      "\n",
      "\n",
      "\n",
      "\n",
      "Solution 61: (4, 6, 1, 5, 2, 0, 7, 3)\n",
      "\n",
      " o  o  o  o  X  o  o  o \n",
      " o  o  o  o  o  o  X  o \n",
      " o  X  o  o  o  o  o  o \n",
      " o  o  o  o  o  X  o  o \n",
      " o  o  X  o  o  o  o  o \n",
      " X  o  o  o  o  o  o  o \n",
      " o  o  o  o  o  o  o  X \n",
      " o  o  o  X  o  o  o  o \n",
      "\n",
      "\n",
      "\n",
      "\n",
      "Solution 62: (4, 6, 3, 0, 2, 7, 5, 1)\n",
      "\n",
      " o  o  o  o  X  o  o  o \n",
      " o  o  o  o  o  o  X  o \n",
      " o  o  o  X  o  o  o  o \n",
      " X  o  o  o  o  o  o  o \n",
      " o  o  X  o  o  o  o  o \n",
      " o  o  o  o  o  o  o  X \n",
      " o  o  o  o  o  X  o  o \n",
      " o  X  o  o  o  o  o  o \n",
      "\n",
      "\n",
      "\n",
      "\n",
      "Solution 63: (4, 7, 3, 0, 2, 5, 1, 6)\n",
      "\n",
      " o  o  o  o  X  o  o  o \n",
      " o  o  o  o  o  o  o  X \n",
      " o  o  o  X  o  o  o  o \n",
      " X  o  o  o  o  o  o  o \n",
      " o  o  X  o  o  o  o  o \n",
      " o  o  o  o  o  X  o  o \n",
      " o  X  o  o  o  o  o  o \n",
      " o  o  o  o  o  o  X  o \n",
      "\n",
      "\n",
      "\n",
      "\n",
      "Solution 64: (4, 7, 3, 0, 6, 1, 5, 2)\n",
      "\n",
      " o  o  o  o  X  o  o  o \n",
      " o  o  o  o  o  o  o  X \n",
      " o  o  o  X  o  o  o  o \n",
      " X  o  o  o  o  o  o  o \n",
      " o  o  o  o  o  o  X  o \n",
      " o  X  o  o  o  o  o  o \n",
      " o  o  o  o  o  X  o  o \n",
      " o  o  X  o  o  o  o  o \n",
      "\n",
      "\n",
      "\n",
      "\n",
      "Solution 65: (5, 0, 4, 1, 7, 2, 6, 3)\n",
      "\n",
      " o  o  o  o  o  X  o  o \n",
      " X  o  o  o  o  o  o  o \n",
      " o  o  o  o  X  o  o  o \n",
      " o  X  o  o  o  o  o  o \n",
      " o  o  o  o  o  o  o  X \n",
      " o  o  X  o  o  o  o  o \n",
      " o  o  o  o  o  o  X  o \n",
      " o  o  o  X  o  o  o  o \n",
      "\n",
      "\n",
      "\n",
      "\n",
      "Solution 66: (5, 1, 6, 0, 2, 4, 7, 3)\n",
      "\n",
      " o  o  o  o  o  X  o  o \n",
      " o  X  o  o  o  o  o  o \n",
      " o  o  o  o  o  o  X  o \n",
      " X  o  o  o  o  o  o  o \n",
      " o  o  X  o  o  o  o  o \n",
      " o  o  o  o  X  o  o  o \n",
      " o  o  o  o  o  o  o  X \n",
      " o  o  o  X  o  o  o  o \n",
      "\n",
      "\n",
      "\n",
      "\n",
      "Solution 67: (5, 1, 6, 0, 3, 7, 4, 2)\n",
      "\n",
      " o  o  o  o  o  X  o  o \n",
      " o  X  o  o  o  o  o  o \n",
      " o  o  o  o  o  o  X  o \n",
      " X  o  o  o  o  o  o  o \n",
      " o  o  o  X  o  o  o  o \n",
      " o  o  o  o  o  o  o  X \n",
      " o  o  o  o  X  o  o  o \n",
      " o  o  X  o  o  o  o  o \n",
      "\n",
      "\n",
      "\n",
      "\n",
      "Solution 68: (5, 2, 0, 6, 4, 7, 1, 3)\n",
      "\n",
      " o  o  o  o  o  X  o  o \n",
      " o  o  X  o  o  o  o  o \n",
      " X  o  o  o  o  o  o  o \n",
      " o  o  o  o  o  o  X  o \n",
      " o  o  o  o  X  o  o  o \n",
      " o  o  o  o  o  o  o  X \n",
      " o  X  o  o  o  o  o  o \n",
      " o  o  o  X  o  o  o  o \n",
      "\n",
      "\n",
      "\n",
      "\n",
      "Solution 69: (5, 2, 0, 7, 3, 1, 6, 4)\n",
      "\n",
      " o  o  o  o  o  X  o  o \n",
      " o  o  X  o  o  o  o  o \n",
      " X  o  o  o  o  o  o  o \n",
      " o  o  o  o  o  o  o  X \n",
      " o  o  o  X  o  o  o  o \n",
      " o  X  o  o  o  o  o  o \n",
      " o  o  o  o  o  o  X  o \n",
      " o  o  o  o  X  o  o  o \n",
      "\n",
      "\n",
      "\n",
      "\n",
      "Solution 70: (5, 2, 0, 7, 4, 1, 3, 6)\n",
      "\n",
      " o  o  o  o  o  X  o  o \n",
      " o  o  X  o  o  o  o  o \n",
      " X  o  o  o  o  o  o  o \n",
      " o  o  o  o  o  o  o  X \n",
      " o  o  o  o  X  o  o  o \n",
      " o  X  o  o  o  o  o  o \n",
      " o  o  o  X  o  o  o  o \n",
      " o  o  o  o  o  o  X  o \n",
      "\n",
      "\n",
      "\n",
      "\n",
      "Solution 71: (5, 2, 4, 6, 0, 3, 1, 7)\n",
      "\n",
      " o  o  o  o  o  X  o  o \n",
      " o  o  X  o  o  o  o  o \n",
      " o  o  o  o  X  o  o  o \n",
      " o  o  o  o  o  o  X  o \n",
      " X  o  o  o  o  o  o  o \n",
      " o  o  o  X  o  o  o  o \n",
      " o  X  o  o  o  o  o  o \n",
      " o  o  o  o  o  o  o  X \n",
      "\n",
      "\n",
      "\n",
      "\n",
      "Solution 72: (5, 2, 4, 7, 0, 3, 1, 6)\n",
      "\n",
      " o  o  o  o  o  X  o  o \n",
      " o  o  X  o  o  o  o  o \n",
      " o  o  o  o  X  o  o  o \n",
      " o  o  o  o  o  o  o  X \n",
      " X  o  o  o  o  o  o  o \n",
      " o  o  o  X  o  o  o  o \n",
      " o  X  o  o  o  o  o  o \n",
      " o  o  o  o  o  o  X  o \n",
      "\n",
      "\n",
      "\n",
      "\n",
      "Solution 73: (5, 2, 6, 1, 3, 7, 0, 4)\n",
      "\n",
      " o  o  o  o  o  X  o  o \n",
      " o  o  X  o  o  o  o  o \n",
      " o  o  o  o  o  o  X  o \n",
      " o  X  o  o  o  o  o  o \n",
      " o  o  o  X  o  o  o  o \n",
      " o  o  o  o  o  o  o  X \n",
      " X  o  o  o  o  o  o  o \n",
      " o  o  o  o  X  o  o  o \n",
      "\n",
      "\n",
      "\n",
      "\n",
      "Solution 74: (5, 2, 6, 1, 7, 4, 0, 3)\n",
      "\n",
      " o  o  o  o  o  X  o  o \n",
      " o  o  X  o  o  o  o  o \n",
      " o  o  o  o  o  o  X  o \n",
      " o  X  o  o  o  o  o  o \n",
      " o  o  o  o  o  o  o  X \n",
      " o  o  o  o  X  o  o  o \n",
      " X  o  o  o  o  o  o  o \n",
      " o  o  o  X  o  o  o  o \n",
      "\n",
      "\n",
      "\n",
      "\n",
      "Solution 75: (5, 2, 6, 3, 0, 7, 1, 4)\n",
      "\n",
      " o  o  o  o  o  X  o  o \n",
      " o  o  X  o  o  o  o  o \n",
      " o  o  o  o  o  o  X  o \n",
      " o  o  o  X  o  o  o  o \n",
      " X  o  o  o  o  o  o  o \n",
      " o  o  o  o  o  o  o  X \n",
      " o  X  o  o  o  o  o  o \n",
      " o  o  o  o  X  o  o  o \n",
      "\n",
      "\n",
      "\n",
      "\n",
      "Solution 76: (5, 3, 0, 4, 7, 1, 6, 2)\n",
      "\n",
      " o  o  o  o  o  X  o  o \n",
      " o  o  o  X  o  o  o  o \n",
      " X  o  o  o  o  o  o  o \n",
      " o  o  o  o  X  o  o  o \n",
      " o  o  o  o  o  o  o  X \n",
      " o  X  o  o  o  o  o  o \n",
      " o  o  o  o  o  o  X  o \n",
      " o  o  X  o  o  o  o  o \n",
      "\n",
      "\n",
      "\n",
      "\n",
      "Solution 77: (5, 3, 1, 7, 4, 6, 0, 2)\n",
      "\n",
      " o  o  o  o  o  X  o  o \n",
      " o  o  o  X  o  o  o  o \n",
      " o  X  o  o  o  o  o  o \n",
      " o  o  o  o  o  o  o  X \n",
      " o  o  o  o  X  o  o  o \n",
      " o  o  o  o  o  o  X  o \n",
      " X  o  o  o  o  o  o  o \n",
      " o  o  X  o  o  o  o  o \n",
      "\n",
      "\n",
      "\n",
      "\n",
      "Solution 78: (5, 3, 6, 0, 2, 4, 1, 7)\n",
      "\n",
      " o  o  o  o  o  X  o  o \n",
      " o  o  o  X  o  o  o  o \n",
      " o  o  o  o  o  o  X  o \n",
      " X  o  o  o  o  o  o  o \n",
      " o  o  X  o  o  o  o  o \n",
      " o  o  o  o  X  o  o  o \n",
      " o  X  o  o  o  o  o  o \n",
      " o  o  o  o  o  o  o  X \n",
      "\n",
      "\n",
      "\n",
      "\n",
      "Solution 79: (5, 3, 6, 0, 7, 1, 4, 2)\n",
      "\n",
      " o  o  o  o  o  X  o  o \n",
      " o  o  o  X  o  o  o  o \n",
      " o  o  o  o  o  o  X  o \n",
      " X  o  o  o  o  o  o  o \n",
      " o  o  o  o  o  o  o  X \n",
      " o  X  o  o  o  o  o  o \n",
      " o  o  o  o  X  o  o  o \n",
      " o  o  X  o  o  o  o  o \n",
      "\n",
      "\n",
      "\n",
      "\n",
      "Solution 80: (5, 7, 1, 3, 0, 6, 4, 2)\n",
      "\n",
      " o  o  o  o  o  X  o  o \n",
      " o  o  o  o  o  o  o  X \n",
      " o  X  o  o  o  o  o  o \n",
      " o  o  o  X  o  o  o  o \n",
      " X  o  o  o  o  o  o  o \n",
      " o  o  o  o  o  o  X  o \n",
      " o  o  o  o  X  o  o  o \n",
      " o  o  X  o  o  o  o  o \n",
      "\n",
      "\n",
      "\n",
      "\n",
      "Solution 81: (6, 0, 2, 7, 5, 3, 1, 4)\n",
      "\n",
      " o  o  o  o  o  o  X  o \n",
      " X  o  o  o  o  o  o  o \n",
      " o  o  X  o  o  o  o  o \n",
      " o  o  o  o  o  o  o  X \n",
      " o  o  o  o  o  X  o  o \n",
      " o  o  o  X  o  o  o  o \n",
      " o  X  o  o  o  o  o  o \n",
      " o  o  o  o  X  o  o  o \n",
      "\n",
      "\n",
      "\n",
      "\n",
      "Solution 82: (6, 1, 3, 0, 7, 4, 2, 5)\n",
      "\n",
      " o  o  o  o  o  o  X  o \n",
      " o  X  o  o  o  o  o  o \n",
      " o  o  o  X  o  o  o  o \n",
      " X  o  o  o  o  o  o  o \n",
      " o  o  o  o  o  o  o  X \n",
      " o  o  o  o  X  o  o  o \n",
      " o  o  X  o  o  o  o  o \n",
      " o  o  o  o  o  X  o  o \n",
      "\n",
      "\n",
      "\n",
      "\n",
      "Solution 83: (6, 1, 5, 2, 0, 3, 7, 4)\n",
      "\n",
      " o  o  o  o  o  o  X  o \n",
      " o  X  o  o  o  o  o  o \n",
      " o  o  o  o  o  X  o  o \n",
      " o  o  X  o  o  o  o  o \n",
      " X  o  o  o  o  o  o  o \n",
      " o  o  o  X  o  o  o  o \n",
      " o  o  o  o  o  o  o  X \n",
      " o  o  o  o  X  o  o  o \n",
      "\n",
      "\n",
      "\n",
      "\n",
      "Solution 84: (6, 2, 0, 5, 7, 4, 1, 3)\n",
      "\n",
      " o  o  o  o  o  o  X  o \n",
      " o  o  X  o  o  o  o  o \n",
      " X  o  o  o  o  o  o  o \n",
      " o  o  o  o  o  X  o  o \n",
      " o  o  o  o  o  o  o  X \n",
      " o  o  o  o  X  o  o  o \n",
      " o  X  o  o  o  o  o  o \n",
      " o  o  o  X  o  o  o  o \n",
      "\n",
      "\n",
      "\n",
      "\n",
      "Solution 85: (6, 2, 7, 1, 4, 0, 5, 3)\n",
      "\n",
      " o  o  o  o  o  o  X  o \n",
      " o  o  X  o  o  o  o  o \n",
      " o  o  o  o  o  o  o  X \n",
      " o  X  o  o  o  o  o  o \n",
      " o  o  o  o  X  o  o  o \n",
      " X  o  o  o  o  o  o  o \n",
      " o  o  o  o  o  X  o  o \n",
      " o  o  o  X  o  o  o  o \n",
      "\n",
      "\n",
      "\n",
      "\n",
      "Solution 86: (6, 3, 1, 4, 7, 0, 2, 5)\n",
      "\n",
      " o  o  o  o  o  o  X  o \n",
      " o  o  o  X  o  o  o  o \n",
      " o  X  o  o  o  o  o  o \n",
      " o  o  o  o  X  o  o  o \n",
      " o  o  o  o  o  o  o  X \n",
      " X  o  o  o  o  o  o  o \n",
      " o  o  X  o  o  o  o  o \n",
      " o  o  o  o  o  X  o  o \n",
      "\n",
      "\n",
      "\n",
      "\n",
      "Solution 87: (6, 3, 1, 7, 5, 0, 2, 4)\n",
      "\n",
      " o  o  o  o  o  o  X  o \n",
      " o  o  o  X  o  o  o  o \n",
      " o  X  o  o  o  o  o  o \n",
      " o  o  o  o  o  o  o  X \n",
      " o  o  o  o  o  X  o  o \n",
      " X  o  o  o  o  o  o  o \n",
      " o  o  X  o  o  o  o  o \n",
      " o  o  o  o  X  o  o  o \n",
      "\n",
      "\n",
      "\n",
      "\n",
      "Solution 88: (6, 4, 2, 0, 5, 7, 1, 3)\n",
      "\n",
      " o  o  o  o  o  o  X  o \n",
      " o  o  o  o  X  o  o  o \n",
      " o  o  X  o  o  o  o  o \n",
      " X  o  o  o  o  o  o  o \n",
      " o  o  o  o  o  X  o  o \n",
      " o  o  o  o  o  o  o  X \n",
      " o  X  o  o  o  o  o  o \n",
      " o  o  o  X  o  o  o  o \n",
      "\n",
      "\n",
      "\n",
      "\n",
      "Solution 89: (7, 1, 3, 0, 6, 4, 2, 5)\n",
      "\n",
      " o  o  o  o  o  o  o  X \n",
      " o  X  o  o  o  o  o  o \n",
      " o  o  o  X  o  o  o  o \n",
      " X  o  o  o  o  o  o  o \n",
      " o  o  o  o  o  o  X  o \n",
      " o  o  o  o  X  o  o  o \n",
      " o  o  X  o  o  o  o  o \n",
      " o  o  o  o  o  X  o  o \n",
      "\n",
      "\n",
      "\n",
      "\n",
      "Solution 90: (7, 1, 4, 2, 0, 6, 3, 5)\n",
      "\n",
      " o  o  o  o  o  o  o  X \n",
      " o  X  o  o  o  o  o  o \n",
      " o  o  o  o  X  o  o  o \n",
      " o  o  X  o  o  o  o  o \n",
      " X  o  o  o  o  o  o  o \n",
      " o  o  o  o  o  o  X  o \n",
      " o  o  o  X  o  o  o  o \n",
      " o  o  o  o  o  X  o  o \n",
      "\n",
      "\n",
      "\n",
      "\n",
      "Solution 91: (7, 2, 0, 5, 1, 4, 6, 3)\n",
      "\n",
      " o  o  o  o  o  o  o  X \n",
      " o  o  X  o  o  o  o  o \n",
      " X  o  o  o  o  o  o  o \n",
      " o  o  o  o  o  X  o  o \n",
      " o  X  o  o  o  o  o  o \n",
      " o  o  o  o  X  o  o  o \n",
      " o  o  o  o  o  o  X  o \n",
      " o  o  o  X  o  o  o  o \n",
      "\n",
      "\n",
      "\n",
      "\n",
      "Solution 92: (7, 3, 0, 2, 5, 1, 6, 4)\n",
      "\n",
      " o  o  o  o  o  o  o  X \n",
      " o  o  o  X  o  o  o  o \n",
      " X  o  o  o  o  o  o  o \n",
      " o  o  X  o  o  o  o  o \n",
      " o  o  o  o  o  X  o  o \n",
      " o  X  o  o  o  o  o  o \n",
      " o  o  o  o  o  o  X  o \n",
      " o  o  o  o  X  o  o  o \n",
      "\n",
      "\n",
      "\n",
      "\n"
     ]
    }
   ],
   "source": [
    "from itertools import permutations\n",
    "\n",
    "N=8\n",
    "sol=0\n",
    "cols = range(N)\n",
    "for combo in permutations(cols):\n",
    "    if N==len(set(combo[i]+i for i in cols))==len(set(combo[i]-i for i in cols)):\n",
    "        sol += 1\n",
    "        print('Solution '+str(sol)+': '+str(combo)+'\\n')\n",
    "        print(\"\\n\".join(' o ' * i + ' X ' + ' o ' * (N-i-1) for i in combo) + \"\\n\\n\\n\\n\")"
   ]
  }
 ],
 "metadata": {
  "colab": {
   "provenance": []
  },
  "interpreter": {
   "hash": "c124d607bc8f1cc156e803198ffd1035bd117c1fdcc88c31f981715e556c40a8"
  },
  "kernelspec": {
   "display_name": "Python 3 (ipykernel)",
   "language": "python",
   "name": "python3"
  },
  "language_info": {
   "codemirror_mode": {
    "name": "ipython",
    "version": 3
   },
   "file_extension": ".py",
   "mimetype": "text/x-python",
   "name": "python",
   "nbconvert_exporter": "python",
   "pygments_lexer": "ipython3",
   "version": "3.10.4"
  }
 },
 "nbformat": 4,
 "nbformat_minor": 1
}
