{
 "cells": [
  {
   "cell_type": "markdown",
   "metadata": {},
   "source": [
    "# Logit Multinomial: Decisiones escolares y laborales para hombres jóvenes"
   ]
  },
  {
   "cell_type": "markdown",
   "metadata": {},
   "source": [
    "## Dataset y objetivo del ejemplo:\n",
    "* Los datos (un subconjunto del trabajo de Keane y Wolpin, 1997, \"The Career Decisions of Young Men\", Journal of Political Economy, Vol. 105, No. 3, pp. 473-522) contienen historial de empleo y escolaridad para una muestra de hombres para los años 1981 a 1987. \n",
    "\n",
    "* Utilizamos los datos para 1987. Los tres resultados posibles se inscribieron en la escuela (estado = 0), no en la escuela y no trabajando (estado = 1), y trabajando (estado = 2). \n",
    "\n",
    "* Las variables explicativas son educación, experiencia de trabajo cuadrática y un indicador binario de si el individuo es de raza negra. "
   ]
  },
  {
   "cell_type": "markdown",
   "metadata": {},
   "source": [
    "## 1. Importación de Bibliotecas:"
   ]
  },
  {
   "cell_type": "code",
   "execution_count": null,
   "metadata": {},
   "outputs": [],
   "source": [
    "import numpy as np\n",
    "import matplotlib.pyplot as plt\n",
    "import pandas as pd\n",
    "import statsmodels.api as sm\n",
    "\n",
    "# Omiting WARNINGS\n",
    "import warnings\n",
    "warnings.filterwarnings('ignore')"
   ]
  },
  {
   "cell_type": "markdown",
   "metadata": {},
   "source": [
    "### Descripción de variables:\n",
    "* id: identifier\n",
    "* numyrs: number of years in sample\n",
    "* year: 81 to 87\n",
    "* choice: sch=1,home=2,wc=3,bc=4,serv=5\n",
    "* wage: annual wage, 1987 \\$\n",
    "* educ: years of schooling\n",
    "* expwc: experience in white collar\n",
    "* expbc: experience in blue collar\n",
    "* expser: experience in services\n",
    "* manuf: =1 if in manufacturing\n",
    "* black: =1 if black\n",
    "* lwage: log(wage)\n",
    "* y81: =1 if year == 81\n",
    "* ... y87\n",
    "* enroll: =1 if choice == 1\n",
    "* employ: =1 if choice == 3, 4, or 5\n",
    "* attrit: =1 if attrit in next year\n",
    "* exper: expwc + expbc + expser\n",
    "* expersq: exper^2\n",
    "* status: sch=1,home=2,work=3"
   ]
  },
  {
   "cell_type": "code",
   "execution_count": null,
   "metadata": {},
   "outputs": [],
   "source": [
    "#\n",
    "keane_df = pd.read_stata('keane.dta')\n",
    "keane_df.head()"
   ]
  },
  {
   "cell_type": "code",
   "execution_count": null,
   "metadata": {},
   "outputs": [],
   "source": [
    "# \n",
    "keane_df.shape"
   ]
  },
  {
   "cell_type": "code",
   "execution_count": null,
   "metadata": {},
   "outputs": [],
   "source": [
    "# Selección de datos (sólo información de 1987):\n",
    "\n",
    "keane_df2 = keane_df.loc[keane_df.y87 == 1]"
   ]
  },
  {
   "cell_type": "code",
   "execution_count": null,
   "metadata": {},
   "outputs": [],
   "source": [
    "#\n",
    "keane_df2[\"estado\"] = 0\n",
    "keane_df2.loc[keane_df2.status == 2.0, \"estado\"] = 1\n",
    "keane_df2.loc[keane_df2.status == 3.0, \"estado\"] = 2"
   ]
  },
  {
   "cell_type": "code",
   "execution_count": null,
   "metadata": {},
   "outputs": [],
   "source": [
    "#\n",
    "keane_df2.head()"
   ]
  },
  {
   "cell_type": "code",
   "execution_count": null,
   "metadata": {},
   "outputs": [],
   "source": [
    "# \n",
    "keane_df2.shape"
   ]
  },
  {
   "cell_type": "code",
   "execution_count": null,
   "metadata": {},
   "outputs": [],
   "source": [
    "#\n",
    "keane_df2 = keane_df2[['estado', 'educ', 'exper', 'expersq', 'black']]\n",
    "\n",
    "keane_df2.head()"
   ]
  },
  {
   "cell_type": "code",
   "execution_count": null,
   "metadata": {},
   "outputs": [],
   "source": [
    "#\n",
    "pd.crosstab(keane_df2[\"estado\"], keane_df2[\"educ\"], margins = True)"
   ]
  },
  {
   "cell_type": "markdown",
   "metadata": {},
   "source": [
    "## 2. Estimación "
   ]
  },
  {
   "cell_type": "code",
   "execution_count": null,
   "metadata": {},
   "outputs": [],
   "source": [
    "# Definición de variables:\n",
    "y = keane_df2[\"estado\"]\n",
    "\n",
    "X = keane_df2[['educ', 'exper', 'expersq', 'black']]\n",
    "\n",
    "X = sm.add_constant(X)"
   ]
  },
  {
   "cell_type": "code",
   "execution_count": null,
   "metadata": {},
   "outputs": [],
   "source": [
    "# Estimación:\n",
    "mdl = sm.MNLogit(y, X)\n",
    " \n",
    "mdl_fit = mdl.fit()"
   ]
  },
  {
   "cell_type": "code",
   "execution_count": null,
   "metadata": {},
   "outputs": [],
   "source": [
    "# Imprimiendo Resultados:\n",
    "print(mdl_fit.summary())"
   ]
  },
  {
   "cell_type": "code",
   "execution_count": null,
   "metadata": {},
   "outputs": [],
   "source": [
    "# Efectos Marginnales:\n",
    "mdl_margeff = mdl_fit.get_margeff()\n",
    "\n",
    "print(mdl_margeff.summary())"
   ]
  },
  {
   "cell_type": "code",
   "execution_count": null,
   "metadata": {},
   "outputs": [],
   "source": []
  }
 ],
 "metadata": {
  "kernelspec": {
   "display_name": "Python 3",
   "language": "python",
   "name": "python3"
  },
  "language_info": {
   "codemirror_mode": {
    "name": "ipython",
    "version": 3
   },
   "file_extension": ".py",
   "mimetype": "text/x-python",
   "name": "python",
   "nbconvert_exporter": "python",
   "pygments_lexer": "ipython3",
   "version": "3.7.5"
  }
 },
 "nbformat": 4,
 "nbformat_minor": 2
}
