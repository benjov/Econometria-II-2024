{
  "cells": [
    {
      "cell_type": "markdown",
      "id": "b7cfafec",
      "metadata": {
        "papermill": {
          "duration": 0.012522,
          "end_time": "2023-03-15T23:44:59.540335",
          "exception": false,
          "start_time": "2023-03-15T23:44:59.527813",
          "status": "completed"
        },
        "tags": [],
        "id": "b7cfafec"
      },
      "source": [
        "# INTRODUCCIÓN A DEEP LEARNING\n",
        "\n",
        "## ¿Qué es el aprendizaje profundo?\n",
        "\n",
        "* Algunos de los avances más impresionantes en inteligencia artificial de los últimos años se han producido en el campo del aprendizaje profundo.\n",
        "\n",
        "* El procesamiento del lenguaje natural, el reconocimiento de imágenes y los juegos son tareas en las que los modelos de aprendizaje profundo se han acercado o incluso superado el rendimiento a nivel humano.\n",
        "\n",
        "* ¿Qué es el aprendizaje profundo? El aprendizaje profundo es un enfoque del aprendizaje automático que ha permitido identificar tipos de patrones complejos y jerárquicos que se encuentran en los conjuntos de datos más desafiantes del mundo real.\n",
        "\n",
        "El objetivo principal es presentar un proyecto sencillo de Deep Learning y practicar los principales usos de bibliotecas como `keras` o `tensorflow`."
      ]
    },
    {
      "cell_type": "markdown",
      "id": "180ec57f",
      "metadata": {
        "papermill": {
          "duration": 0.01151,
          "end_time": "2023-03-15T23:44:59.563675",
          "exception": false,
          "start_time": "2023-03-15T23:44:59.552165",
          "status": "completed"
        },
        "tags": [],
        "id": "180ec57f"
      },
      "source": [
        "# Load Data\n"
      ]
    },
    {
      "cell_type": "code",
      "execution_count": 16,
      "id": "24458684",
      "metadata": {
        "id": "24458684"
      },
      "outputs": [],
      "source": [
        "#!pip install tensorflow"
      ]
    },
    {
      "cell_type": "code",
      "execution_count": 17,
      "id": "98df1401",
      "metadata": {
        "_cell_guid": "b1076dfc-b9ad-4769-8c92-a6c4dae69d19",
        "_uuid": "8f2839f25d086af736a60e9eeb907d3b93b6e0e5",
        "execution": {
          "iopub.execute_input": "2023-03-15T23:44:59.592127Z",
          "iopub.status.busy": "2023-03-15T23:44:59.591590Z",
          "iopub.status.idle": "2023-03-15T23:45:01.663966Z",
          "shell.execute_reply": "2023-03-15T23:45:01.662034Z"
        },
        "papermill": {
          "duration": 2.089374,
          "end_time": "2023-03-15T23:45:01.666763",
          "exception": false,
          "start_time": "2023-03-15T23:44:59.577389",
          "status": "completed"
        },
        "tags": [],
        "id": "98df1401"
      },
      "outputs": [],
      "source": [
        "# first neural network with keras tutorial\n",
        "\n",
        "from numpy import loadtxt\n",
        "from tensorflow.keras.models import Sequential\n",
        "from tensorflow.keras.layers import Dense\n",
        "\n",
        "#\n",
        "import warnings\n",
        "warnings.filterwarnings('ignore')"
      ]
    },
    {
      "cell_type": "markdown",
      "source": [
        "En esta clase de Keras, utilizaremos el conjunto de datos sobre el inicio de la diabetes de la población originaria Pima.\n",
        "\n",
        "Este es un conjunto de datos de aprendizaje automático estándar del repositorio [UCI Machine Learning](https://archive.ics.uci.edu/). Los datos consisten en los registros médicos de los indios Pima.\n",
        "\n",
        "Como tal, se trata de un problema de clasificación binaria (inicio de diabetes como 1 o no como 0).\n",
        "\n",
        "Todas las variables de entrada que describen a cada paciente son numéricas--esto facilita su uso directamente con redes neuronales que esperan valores numéricos de entrada y salida y es una opción ideal para nuestra primera red neuronal en Keras--.\n",
        "\n",
        "El conjunto de datos está disponible [aquí](https://raw.githubusercontent.com/jbrownlee/Datasets/master/pima-indians-diabetes.data.csv). Es un archivo CSV del conjunto de datos (pima-indians-diabetes.csv). Los detalles del conjunto de datos esta disponible [aquí](https://raw.githubusercontent.com/jbrownlee/Datasets/master/pima-indians-diabetes.names)."
      ],
      "metadata": {
        "id": "v8kMPnldvkGN"
      },
      "id": "v8kMPnldvkGN"
    },
    {
      "cell_type": "code",
      "source": [],
      "metadata": {
        "id": "oZsOPS9pSyr4"
      },
      "id": "oZsOPS9pSyr4",
      "execution_count": 17,
      "outputs": []
    },
    {
      "cell_type": "markdown",
      "source": [
        "The variables can be summarized as follows:\n",
        "\n",
        "Input Variables (X):\n",
        "\n",
        "* Number of times pregnant\n",
        "* Plasma glucose concentration at 2 hours in an oral glucose tolerance test\n",
        "* Diastolic blood pressure (mm Hg)\n",
        "* Triceps skin fold thickness (mm)\n",
        "* 2-hour serum insulin (mu U/ml)\n",
        "* Body mass index (weight in kg/(height in m)^2)\n",
        "* Diabetes pedigree function\n",
        "* Age (years)\n",
        "\n",
        "Output Variables (y):\n",
        "\n",
        "* Class variable (0 or 1)\n"
      ],
      "metadata": {
        "id": "E6GcwfXZMdWS"
      },
      "id": "E6GcwfXZMdWS"
    },
    {
      "cell_type": "code",
      "source": [
        "#\n",
        "dataset = loadtxt('https://raw.githubusercontent.com/jbrownlee/Datasets/master/pima-indians-diabetes.data.csv', delimiter=',')\n",
        "\n",
        "dataset"
      ],
      "metadata": {
        "colab": {
          "base_uri": "https://localhost:8080/"
        },
        "id": "LneYsTRUSy1A",
        "outputId": "4b4845a5-6fb7-4581-babd-2fbbb796fdee"
      },
      "id": "LneYsTRUSy1A",
      "execution_count": 18,
      "outputs": [
        {
          "output_type": "execute_result",
          "data": {
            "text/plain": [
              "array([[  6.   , 148.   ,  72.   , ...,   0.627,  50.   ,   1.   ],\n",
              "       [  1.   ,  85.   ,  66.   , ...,   0.351,  31.   ,   0.   ],\n",
              "       [  8.   , 183.   ,  64.   , ...,   0.672,  32.   ,   1.   ],\n",
              "       ...,\n",
              "       [  5.   , 121.   ,  72.   , ...,   0.245,  30.   ,   0.   ],\n",
              "       [  1.   , 126.   ,  60.   , ...,   0.349,  47.   ,   1.   ],\n",
              "       [  1.   ,  93.   ,  70.   , ...,   0.315,  23.   ,   0.   ]])"
            ]
          },
          "metadata": {},
          "execution_count": 18
        }
      ]
    },
    {
      "cell_type": "code",
      "source": [
        "# split into input (X) and output (y) variables\n",
        "X = dataset[:,0:8]\n",
        "y = dataset[:,8]"
      ],
      "metadata": {
        "id": "_-Y46G4vSy32"
      },
      "id": "_-Y46G4vSy32",
      "execution_count": 19,
      "outputs": []
    },
    {
      "cell_type": "markdown",
      "source": [
        "## Define Keras Model\n",
        "\n",
        "Los modelos en Keras se definen como una secuencia de capas.\n",
        "\n",
        "Creamos un modelo secuencial y agregamos capas una a la vez hasta que estemos satisfechos con nuestra arquitectura de red.\n",
        "\n",
        "Lo primero que hay que hacer es asegurarse de que la capa de entrada tenga la cantidad correcta de entidades de entrada. Esto se puede especificar al crear la primera capa con el argumento input_shape y configurarlo en (8,) para presentar las ocho variables de entrada como un vector.\n",
        "\n",
        "### ¿Cómo sabemos el número de capas y sus tipos?\n",
        "\n",
        "Esta es una pregunta complicada.\n",
        "\n",
        "Hay heurísticas que puede utilizar y, a menudo, la mejor estructura de red se encuentra mediante un proceso de experimentación de prueba y error.\n",
        "\n",
        "Generalmente, necesita una red lo suficientemente grande como para capturar la estructura del problema.\n",
        "\n",
        "En este ejemplo, usemos una estructura de red completamente conectada con tres capas.\n",
        "\n",
        "Las capas completamente conectadas se definen mediante la clase Dense.\n",
        "\n",
        "Puede especificar el número de neuronas o nodos en la capa como primer argumento y la función de activación utilizando el argumento de activación.\n",
        "\n",
        "**Además, utilizaremos la función de activación de unidad lineal rectificada denominada ReLU en las dos primeras capas y la función Sigmoidea en la capa de salida.**\n",
        "\n",
        "Solía darse el caso de que las funciones de activación Sigmoide y Tanh eran preferidas para todas las capas. Hoy en día, se logra un mejor rendimiento utilizando la función de activación ReLU.\n",
        "\n",
        "**El uso de un sigmoide en la capa de salida garantiza que la salida de su red esté entre 0 y 1 y es fácil de asignar a una probabilidad de clase 1 o ajustarse a una clasificación estricta de cualquier clase con un umbral predeterminado de 0.5.**\n",
        "\n",
        "En resumen:\n",
        "\n",
        "* El modelo espera filas de datos con 8 variables (el argumento input_shape =(8,)).\n",
        "* La primera capa oculta tiene 12 nodos y utiliza la función de activación ReLU.\n",
        "* La segunda capa oculta tiene 8 nodos y utiliza la función de activación ReLU.\n",
        "* La capa de salida tiene un nodo y utiliza la función de activación sigmoide."
      ],
      "metadata": {
        "id": "GDf75_ZDe895"
      },
      "id": "GDf75_ZDe895"
    },
    {
      "cell_type": "code",
      "source": [
        "#\n",
        "model = Sequential()\n",
        "\n",
        "model.add(Dense(12, input_shape = (8,), activation = 'relu'))\n",
        "\n",
        "model.add(Dense(8, activation = 'relu'))\n",
        "\n",
        "model.add(Dense(1, activation = 'sigmoid'))"
      ],
      "metadata": {
        "id": "B3dRjRkLSy9V"
      },
      "id": "B3dRjRkLSy9V",
      "execution_count": 20,
      "outputs": []
    },
    {
      "cell_type": "markdown",
      "source": [
        "## Compile Keras Model\n",
        "\n",
        "La compilación del modelo utiliza bibliotecas numéricas eficientes (el llamado backend), como Theano o TensorFlow.\n",
        "\n",
        "El backend elige automáticamente la mejor manera de representar la red para entrenar y hacer predicciones para ejecutar en su hardware, como CPU, GPU o incluso distribuido.\n",
        "\n",
        "Al compilar, se debe especificar algunas propiedades adicionales necesarias al entrenar la red. Recuerde entrenar una red significa encontrar el mejor conjunto de ponderaciones para asignar entradas a salidas en su conjunto de datos.\n",
        "\n",
        "Debe especificar la función de pérdida que se utilizará para evaluar un conjunto de ponderaciones, el optimizador utilizado para buscar diferentes ponderaciones para la red y cualquier métrica opcional que desee recopilar e informar durante el entrenamiento.\n",
        "\n",
        "En este caso, utilizamos la **entropía cruzada** como argumento de pérdida. Esta pérdida es para problemas de clasificación binaria y se define en Keras como \"binary_crossentropy\".\n",
        "\n",
        "Definiremos el optimizador como el eficiente algoritmo de descenso de gradiente estocástico \"adam\". Esta es una versión popular del descenso de gradiente porque se sintoniza automáticamente y da buenos resultados en una amplia gama de problemas.\n",
        "\n",
        "Finalmente, debido a que se trata de un problema de clasificación, recopilará e informará la precisión de la clasificación definida mediante el argumento de métricas."
      ],
      "metadata": {
        "id": "y7tz_FaAjlrm"
      },
      "id": "y7tz_FaAjlrm"
    },
    {
      "cell_type": "code",
      "source": [
        "# compile the keras model\n",
        "model.compile(loss='binary_crossentropy', optimizer='adam', metrics=['accuracy'])"
      ],
      "metadata": {
        "id": "UmxYLP9Vec42"
      },
      "id": "UmxYLP9Vec42",
      "execution_count": 21,
      "outputs": []
    },
    {
      "cell_type": "markdown",
      "source": [
        "## Fit Keras Model\n",
        "\n",
        "Ahora es el momento de ejecutar el modelo con algunos datos.\n",
        "\n",
        "Entrenamos o ajustamos el modelo a los datos cargados llamando a la función fit() en el modelo.\n",
        "\n",
        "El entrenamiento se produce a lo largo de épocas (epoch) y cada época se divide en lotes (batches).\n",
        "\n",
        "* Época: una pasada por todas las filas del conjunto de datos de entrenamiento\n",
        "\n",
        "* Lote: una o más muestras consideradas por el modelo dentro de una época antes de que se actualicen los pesos.\n",
        "\n",
        "**Una época comprende uno o más lotes, según el tamaño de lote elegido, y el modelo es apto para muchas épocas.**\n",
        "\n",
        "El proceso de entrenamiento se ejecutará durante un número fijo de épocas (iteraciones) a través del conjunto de datos que debe especificar mediante el argumento epochs.\n",
        "\n",
        "Se debe establecer el número de filas del conjunto de datos que se consideran antes de que se actualicen los pesos del modelo dentro de cada época, denominado tamaño de lote, y establecerlo mediante el argumento batch_size.\n",
        "\n",
        "Nuestro problema se ejecutará durante una pequeña cantidad de épocas (150) y utilizará un tamaño de lote relativamente pequeño de 10.\n",
        "\n",
        "**Estas configuraciones se pueden elegir experimentalmente mediante prueba y error.**"
      ],
      "metadata": {
        "id": "wG9vQEcPkbMk"
      },
      "id": "wG9vQEcPkbMk"
    },
    {
      "cell_type": "code",
      "source": [
        "# fit the keras model on the dataset\n",
        "model.fit(X, y, epochs=150, batch_size=10)"
      ],
      "metadata": {
        "colab": {
          "base_uri": "https://localhost:8080/"
        },
        "id": "bX1_CPbLec7d",
        "outputId": "e1bad01b-037d-4173-e060-62c241036ed6"
      },
      "id": "bX1_CPbLec7d",
      "execution_count": 22,
      "outputs": [
        {
          "output_type": "stream",
          "name": "stdout",
          "text": [
            "Epoch 1/150\n",
            "77/77 [==============================] - 1s 2ms/step - loss: 3.4548 - accuracy: 0.6159\n",
            "Epoch 2/150\n",
            "77/77 [==============================] - 0s 2ms/step - loss: 1.2984 - accuracy: 0.6172\n",
            "Epoch 3/150\n",
            "77/77 [==============================] - 0s 2ms/step - loss: 1.0832 - accuracy: 0.6354\n",
            "Epoch 4/150\n",
            "77/77 [==============================] - 0s 2ms/step - loss: 0.9891 - accuracy: 0.6406\n",
            "Epoch 5/150\n",
            "77/77 [==============================] - 0s 2ms/step - loss: 0.8837 - accuracy: 0.6484\n",
            "Epoch 6/150\n",
            "77/77 [==============================] - 0s 2ms/step - loss: 0.8570 - accuracy: 0.6549\n",
            "Epoch 7/150\n",
            "77/77 [==============================] - 0s 2ms/step - loss: 0.8214 - accuracy: 0.6576\n",
            "Epoch 8/150\n",
            "77/77 [==============================] - 0s 2ms/step - loss: 0.7871 - accuracy: 0.6523\n",
            "Epoch 9/150\n",
            "77/77 [==============================] - 0s 2ms/step - loss: 0.7541 - accuracy: 0.6771\n",
            "Epoch 10/150\n",
            "77/77 [==============================] - 0s 2ms/step - loss: 0.7562 - accuracy: 0.6576\n",
            "Epoch 11/150\n",
            "77/77 [==============================] - 0s 2ms/step - loss: 0.6986 - accuracy: 0.6823\n",
            "Epoch 12/150\n",
            "77/77 [==============================] - 0s 2ms/step - loss: 0.7082 - accuracy: 0.6849\n",
            "Epoch 13/150\n",
            "77/77 [==============================] - 0s 2ms/step - loss: 0.6956 - accuracy: 0.6641\n",
            "Epoch 14/150\n",
            "77/77 [==============================] - 0s 3ms/step - loss: 0.6613 - accuracy: 0.6914\n",
            "Epoch 15/150\n",
            "77/77 [==============================] - 0s 3ms/step - loss: 0.6732 - accuracy: 0.6875\n",
            "Epoch 16/150\n",
            "77/77 [==============================] - 0s 3ms/step - loss: 0.6702 - accuracy: 0.6875\n",
            "Epoch 17/150\n",
            "77/77 [==============================] - 0s 3ms/step - loss: 0.6969 - accuracy: 0.7005\n",
            "Epoch 18/150\n",
            "77/77 [==============================] - 0s 3ms/step - loss: 0.6230 - accuracy: 0.7057\n",
            "Epoch 19/150\n",
            "77/77 [==============================] - 0s 3ms/step - loss: 0.6153 - accuracy: 0.6862\n",
            "Epoch 20/150\n",
            "77/77 [==============================] - 0s 3ms/step - loss: 0.6061 - accuracy: 0.7005\n",
            "Epoch 21/150\n",
            "77/77 [==============================] - 0s 3ms/step - loss: 0.6159 - accuracy: 0.7018\n",
            "Epoch 22/150\n",
            "77/77 [==============================] - 0s 3ms/step - loss: 0.5909 - accuracy: 0.6992\n",
            "Epoch 23/150\n",
            "77/77 [==============================] - 0s 3ms/step - loss: 0.6074 - accuracy: 0.6927\n",
            "Epoch 24/150\n",
            "77/77 [==============================] - 0s 3ms/step - loss: 0.6060 - accuracy: 0.7044\n",
            "Epoch 25/150\n",
            "77/77 [==============================] - 0s 3ms/step - loss: 0.6042 - accuracy: 0.7005\n",
            "Epoch 26/150\n",
            "77/77 [==============================] - 0s 2ms/step - loss: 0.6030 - accuracy: 0.6979\n",
            "Epoch 27/150\n",
            "77/77 [==============================] - 0s 2ms/step - loss: 0.6089 - accuracy: 0.7044\n",
            "Epoch 28/150\n",
            "77/77 [==============================] - 0s 2ms/step - loss: 0.5886 - accuracy: 0.7057\n",
            "Epoch 29/150\n",
            "77/77 [==============================] - 0s 2ms/step - loss: 0.5678 - accuracy: 0.7083\n",
            "Epoch 30/150\n",
            "77/77 [==============================] - 0s 2ms/step - loss: 0.6240 - accuracy: 0.7227\n",
            "Epoch 31/150\n",
            "77/77 [==============================] - 0s 2ms/step - loss: 0.5728 - accuracy: 0.7253\n",
            "Epoch 32/150\n",
            "77/77 [==============================] - 0s 2ms/step - loss: 0.5572 - accuracy: 0.7188\n",
            "Epoch 33/150\n",
            "77/77 [==============================] - 0s 2ms/step - loss: 0.5496 - accuracy: 0.7266\n",
            "Epoch 34/150\n",
            "77/77 [==============================] - 0s 2ms/step - loss: 0.5525 - accuracy: 0.7474\n",
            "Epoch 35/150\n",
            "77/77 [==============================] - 0s 2ms/step - loss: 0.5682 - accuracy: 0.7201\n",
            "Epoch 36/150\n",
            "77/77 [==============================] - 0s 2ms/step - loss: 0.5639 - accuracy: 0.7240\n",
            "Epoch 37/150\n",
            "77/77 [==============================] - 0s 2ms/step - loss: 0.5735 - accuracy: 0.7305\n",
            "Epoch 38/150\n",
            "77/77 [==============================] - 0s 2ms/step - loss: 0.5478 - accuracy: 0.7370\n",
            "Epoch 39/150\n",
            "77/77 [==============================] - 0s 2ms/step - loss: 0.5437 - accuracy: 0.7214\n",
            "Epoch 40/150\n",
            "77/77 [==============================] - 0s 2ms/step - loss: 0.5356 - accuracy: 0.7318\n",
            "Epoch 41/150\n",
            "77/77 [==============================] - 0s 2ms/step - loss: 0.5456 - accuracy: 0.7305\n",
            "Epoch 42/150\n",
            "77/77 [==============================] - 0s 2ms/step - loss: 0.5555 - accuracy: 0.7201\n",
            "Epoch 43/150\n",
            "77/77 [==============================] - 0s 2ms/step - loss: 0.5322 - accuracy: 0.7344\n",
            "Epoch 44/150\n",
            "77/77 [==============================] - 0s 2ms/step - loss: 0.5339 - accuracy: 0.7383\n",
            "Epoch 45/150\n",
            "77/77 [==============================] - 0s 2ms/step - loss: 0.5279 - accuracy: 0.7357\n",
            "Epoch 46/150\n",
            "77/77 [==============================] - 0s 2ms/step - loss: 0.5984 - accuracy: 0.7148\n",
            "Epoch 47/150\n",
            "77/77 [==============================] - 0s 2ms/step - loss: 0.5239 - accuracy: 0.7461\n",
            "Epoch 48/150\n",
            "77/77 [==============================] - 0s 2ms/step - loss: 0.5278 - accuracy: 0.7370\n",
            "Epoch 49/150\n",
            "77/77 [==============================] - 0s 2ms/step - loss: 0.5246 - accuracy: 0.7383\n",
            "Epoch 50/150\n",
            "77/77 [==============================] - 0s 2ms/step - loss: 0.5191 - accuracy: 0.7461\n",
            "Epoch 51/150\n",
            "77/77 [==============================] - 0s 2ms/step - loss: 0.5230 - accuracy: 0.7357\n",
            "Epoch 52/150\n",
            "77/77 [==============================] - 0s 2ms/step - loss: 0.5175 - accuracy: 0.7578\n",
            "Epoch 53/150\n",
            "77/77 [==============================] - 0s 2ms/step - loss: 0.5441 - accuracy: 0.7227\n",
            "Epoch 54/150\n",
            "77/77 [==============================] - 0s 2ms/step - loss: 0.5208 - accuracy: 0.7461\n",
            "Epoch 55/150\n",
            "77/77 [==============================] - 0s 2ms/step - loss: 0.5077 - accuracy: 0.7539\n",
            "Epoch 56/150\n",
            "77/77 [==============================] - 0s 2ms/step - loss: 0.5145 - accuracy: 0.7591\n",
            "Epoch 57/150\n",
            "77/77 [==============================] - 0s 2ms/step - loss: 0.5193 - accuracy: 0.7578\n",
            "Epoch 58/150\n",
            "77/77 [==============================] - 0s 2ms/step - loss: 0.5224 - accuracy: 0.7617\n",
            "Epoch 59/150\n",
            "77/77 [==============================] - 0s 2ms/step - loss: 0.5154 - accuracy: 0.7448\n",
            "Epoch 60/150\n",
            "77/77 [==============================] - 0s 2ms/step - loss: 0.5100 - accuracy: 0.7578\n",
            "Epoch 61/150\n",
            "77/77 [==============================] - 0s 2ms/step - loss: 0.5054 - accuracy: 0.7396\n",
            "Epoch 62/150\n",
            "77/77 [==============================] - 0s 2ms/step - loss: 0.5388 - accuracy: 0.7461\n",
            "Epoch 63/150\n",
            "77/77 [==============================] - 0s 2ms/step - loss: 0.5059 - accuracy: 0.7643\n",
            "Epoch 64/150\n",
            "77/77 [==============================] - 0s 2ms/step - loss: 0.5138 - accuracy: 0.7383\n",
            "Epoch 65/150\n",
            "77/77 [==============================] - 0s 2ms/step - loss: 0.5083 - accuracy: 0.7591\n",
            "Epoch 66/150\n",
            "77/77 [==============================] - 0s 2ms/step - loss: 0.4933 - accuracy: 0.7500\n",
            "Epoch 67/150\n",
            "77/77 [==============================] - 0s 2ms/step - loss: 0.5072 - accuracy: 0.7435\n",
            "Epoch 68/150\n",
            "77/77 [==============================] - 0s 2ms/step - loss: 0.5088 - accuracy: 0.7578\n",
            "Epoch 69/150\n",
            "77/77 [==============================] - 0s 2ms/step - loss: 0.4914 - accuracy: 0.7474\n",
            "Epoch 70/150\n",
            "77/77 [==============================] - 0s 2ms/step - loss: 0.4874 - accuracy: 0.7643\n",
            "Epoch 71/150\n",
            "77/77 [==============================] - 0s 2ms/step - loss: 0.4879 - accuracy: 0.7682\n",
            "Epoch 72/150\n",
            "77/77 [==============================] - 0s 2ms/step - loss: 0.4910 - accuracy: 0.7526\n",
            "Epoch 73/150\n",
            "77/77 [==============================] - 0s 2ms/step - loss: 0.4773 - accuracy: 0.7669\n",
            "Epoch 74/150\n",
            "77/77 [==============================] - 0s 2ms/step - loss: 0.4922 - accuracy: 0.7591\n",
            "Epoch 75/150\n",
            "77/77 [==============================] - 0s 2ms/step - loss: 0.4933 - accuracy: 0.7591\n",
            "Epoch 76/150\n",
            "77/77 [==============================] - 0s 2ms/step - loss: 0.4937 - accuracy: 0.7643\n",
            "Epoch 77/150\n",
            "77/77 [==============================] - 0s 2ms/step - loss: 0.4903 - accuracy: 0.7552\n",
            "Epoch 78/150\n",
            "77/77 [==============================] - 0s 2ms/step - loss: 0.4888 - accuracy: 0.7539\n",
            "Epoch 79/150\n",
            "77/77 [==============================] - 0s 2ms/step - loss: 0.4968 - accuracy: 0.7578\n",
            "Epoch 80/150\n",
            "77/77 [==============================] - 0s 2ms/step - loss: 0.4873 - accuracy: 0.7799\n",
            "Epoch 81/150\n",
            "77/77 [==============================] - 0s 2ms/step - loss: 0.4873 - accuracy: 0.7565\n",
            "Epoch 82/150\n",
            "77/77 [==============================] - 0s 2ms/step - loss: 0.4929 - accuracy: 0.7474\n",
            "Epoch 83/150\n",
            "77/77 [==============================] - 0s 2ms/step - loss: 0.4732 - accuracy: 0.7487\n",
            "Epoch 84/150\n",
            "77/77 [==============================] - 0s 2ms/step - loss: 0.4810 - accuracy: 0.7695\n",
            "Epoch 85/150\n",
            "77/77 [==============================] - 0s 2ms/step - loss: 0.5114 - accuracy: 0.7552\n",
            "Epoch 86/150\n",
            "77/77 [==============================] - 0s 2ms/step - loss: 0.4686 - accuracy: 0.7656\n",
            "Epoch 87/150\n",
            "77/77 [==============================] - 0s 2ms/step - loss: 0.5046 - accuracy: 0.7682\n",
            "Epoch 88/150\n",
            "77/77 [==============================] - 0s 2ms/step - loss: 0.4831 - accuracy: 0.7617\n",
            "Epoch 89/150\n",
            "77/77 [==============================] - 0s 2ms/step - loss: 0.4791 - accuracy: 0.7669\n",
            "Epoch 90/150\n",
            "77/77 [==============================] - 0s 2ms/step - loss: 0.4796 - accuracy: 0.7604\n",
            "Epoch 91/150\n",
            "77/77 [==============================] - 0s 2ms/step - loss: 0.4920 - accuracy: 0.7656\n",
            "Epoch 92/150\n",
            "77/77 [==============================] - 0s 2ms/step - loss: 0.4885 - accuracy: 0.7604\n",
            "Epoch 93/150\n",
            "77/77 [==============================] - 0s 2ms/step - loss: 0.4820 - accuracy: 0.7721\n",
            "Epoch 94/150\n",
            "77/77 [==============================] - 0s 3ms/step - loss: 0.4865 - accuracy: 0.7643\n",
            "Epoch 95/150\n",
            "77/77 [==============================] - 0s 3ms/step - loss: 0.4736 - accuracy: 0.7643\n",
            "Epoch 96/150\n",
            "77/77 [==============================] - 0s 3ms/step - loss: 0.4668 - accuracy: 0.7669\n",
            "Epoch 97/150\n",
            "77/77 [==============================] - 0s 3ms/step - loss: 0.4739 - accuracy: 0.7708\n",
            "Epoch 98/150\n",
            "77/77 [==============================] - 0s 3ms/step - loss: 0.4622 - accuracy: 0.7734\n",
            "Epoch 99/150\n",
            "77/77 [==============================] - 0s 3ms/step - loss: 0.4794 - accuracy: 0.7799\n",
            "Epoch 100/150\n",
            "77/77 [==============================] - 0s 3ms/step - loss: 0.4702 - accuracy: 0.7812\n",
            "Epoch 101/150\n",
            "77/77 [==============================] - 0s 3ms/step - loss: 0.4807 - accuracy: 0.7656\n",
            "Epoch 102/150\n",
            "77/77 [==============================] - 0s 3ms/step - loss: 0.4885 - accuracy: 0.7747\n",
            "Epoch 103/150\n",
            "77/77 [==============================] - 0s 3ms/step - loss: 0.4993 - accuracy: 0.7656\n",
            "Epoch 104/150\n",
            "77/77 [==============================] - 0s 3ms/step - loss: 0.4689 - accuracy: 0.7682\n",
            "Epoch 105/150\n",
            "77/77 [==============================] - 0s 3ms/step - loss: 0.4714 - accuracy: 0.7630\n",
            "Epoch 106/150\n",
            "77/77 [==============================] - 0s 2ms/step - loss: 0.4815 - accuracy: 0.7773\n",
            "Epoch 107/150\n",
            "77/77 [==============================] - 0s 2ms/step - loss: 0.4926 - accuracy: 0.7695\n",
            "Epoch 108/150\n",
            "77/77 [==============================] - 0s 2ms/step - loss: 0.4615 - accuracy: 0.7799\n",
            "Epoch 109/150\n",
            "77/77 [==============================] - 0s 2ms/step - loss: 0.4846 - accuracy: 0.7786\n",
            "Epoch 110/150\n",
            "77/77 [==============================] - 0s 2ms/step - loss: 0.4683 - accuracy: 0.7695\n",
            "Epoch 111/150\n",
            "77/77 [==============================] - 0s 2ms/step - loss: 0.4562 - accuracy: 0.7865\n",
            "Epoch 112/150\n",
            "77/77 [==============================] - 0s 2ms/step - loss: 0.4690 - accuracy: 0.7839\n",
            "Epoch 113/150\n",
            "77/77 [==============================] - 0s 2ms/step - loss: 0.4795 - accuracy: 0.7630\n",
            "Epoch 114/150\n",
            "77/77 [==============================] - 0s 2ms/step - loss: 0.4651 - accuracy: 0.7773\n",
            "Epoch 115/150\n",
            "77/77 [==============================] - 0s 2ms/step - loss: 0.4582 - accuracy: 0.7773\n",
            "Epoch 116/150\n",
            "77/77 [==============================] - 0s 2ms/step - loss: 0.4504 - accuracy: 0.7839\n",
            "Epoch 117/150\n",
            "77/77 [==============================] - 0s 2ms/step - loss: 0.4531 - accuracy: 0.7760\n",
            "Epoch 118/150\n",
            "77/77 [==============================] - 0s 2ms/step - loss: 0.4473 - accuracy: 0.7695\n",
            "Epoch 119/150\n",
            "77/77 [==============================] - 0s 2ms/step - loss: 0.4668 - accuracy: 0.7760\n",
            "Epoch 120/150\n",
            "77/77 [==============================] - 0s 2ms/step - loss: 0.4659 - accuracy: 0.7812\n",
            "Epoch 121/150\n",
            "77/77 [==============================] - 0s 2ms/step - loss: 0.4677 - accuracy: 0.7760\n",
            "Epoch 122/150\n",
            "77/77 [==============================] - 0s 2ms/step - loss: 0.4628 - accuracy: 0.7799\n",
            "Epoch 123/150\n",
            "77/77 [==============================] - 0s 2ms/step - loss: 0.4579 - accuracy: 0.7812\n",
            "Epoch 124/150\n",
            "77/77 [==============================] - 0s 2ms/step - loss: 0.4501 - accuracy: 0.8008\n",
            "Epoch 125/150\n",
            "77/77 [==============================] - 0s 2ms/step - loss: 0.4652 - accuracy: 0.7904\n",
            "Epoch 126/150\n",
            "77/77 [==============================] - 0s 2ms/step - loss: 0.4621 - accuracy: 0.7708\n",
            "Epoch 127/150\n",
            "77/77 [==============================] - 0s 2ms/step - loss: 0.4485 - accuracy: 0.7956\n",
            "Epoch 128/150\n",
            "77/77 [==============================] - 0s 2ms/step - loss: 0.4596 - accuracy: 0.7865\n",
            "Epoch 129/150\n",
            "77/77 [==============================] - 0s 2ms/step - loss: 0.4666 - accuracy: 0.7708\n",
            "Epoch 130/150\n",
            "77/77 [==============================] - 0s 2ms/step - loss: 0.4433 - accuracy: 0.7969\n",
            "Epoch 131/150\n",
            "77/77 [==============================] - 0s 2ms/step - loss: 0.4367 - accuracy: 0.7943\n",
            "Epoch 132/150\n",
            "77/77 [==============================] - 0s 2ms/step - loss: 0.4499 - accuracy: 0.7839\n",
            "Epoch 133/150\n",
            "77/77 [==============================] - 0s 2ms/step - loss: 0.4833 - accuracy: 0.7734\n",
            "Epoch 134/150\n",
            "77/77 [==============================] - 0s 2ms/step - loss: 0.4474 - accuracy: 0.7839\n",
            "Epoch 135/150\n",
            "77/77 [==============================] - 0s 2ms/step - loss: 0.4435 - accuracy: 0.7891\n",
            "Epoch 136/150\n",
            "77/77 [==============================] - 0s 2ms/step - loss: 0.4613 - accuracy: 0.7956\n",
            "Epoch 137/150\n",
            "77/77 [==============================] - 0s 2ms/step - loss: 0.4656 - accuracy: 0.7786\n",
            "Epoch 138/150\n",
            "77/77 [==============================] - 0s 2ms/step - loss: 0.4525 - accuracy: 0.7812\n",
            "Epoch 139/150\n",
            "77/77 [==============================] - 0s 2ms/step - loss: 0.4531 - accuracy: 0.7734\n",
            "Epoch 140/150\n",
            "77/77 [==============================] - 0s 2ms/step - loss: 0.4342 - accuracy: 0.7865\n",
            "Epoch 141/150\n",
            "77/77 [==============================] - 0s 2ms/step - loss: 0.4513 - accuracy: 0.7826\n",
            "Epoch 142/150\n",
            "77/77 [==============================] - 0s 2ms/step - loss: 0.4485 - accuracy: 0.7969\n",
            "Epoch 143/150\n",
            "77/77 [==============================] - 0s 2ms/step - loss: 0.4406 - accuracy: 0.7839\n",
            "Epoch 144/150\n",
            "77/77 [==============================] - 0s 2ms/step - loss: 0.4431 - accuracy: 0.7878\n",
            "Epoch 145/150\n",
            "77/77 [==============================] - 0s 2ms/step - loss: 0.4389 - accuracy: 0.7826\n",
            "Epoch 146/150\n",
            "77/77 [==============================] - 0s 2ms/step - loss: 0.4382 - accuracy: 0.7865\n",
            "Epoch 147/150\n",
            "77/77 [==============================] - 0s 2ms/step - loss: 0.4612 - accuracy: 0.7878\n",
            "Epoch 148/150\n",
            "77/77 [==============================] - 0s 2ms/step - loss: 0.4364 - accuracy: 0.7943\n",
            "Epoch 149/150\n",
            "77/77 [==============================] - 0s 2ms/step - loss: 0.4468 - accuracy: 0.7865\n",
            "Epoch 150/150\n",
            "77/77 [==============================] - 0s 2ms/step - loss: 0.4500 - accuracy: 0.7786\n"
          ]
        },
        {
          "output_type": "execute_result",
          "data": {
            "text/plain": [
              "<keras.src.callbacks.History at 0x7c4073628d30>"
            ]
          },
          "metadata": {},
          "execution_count": 22
        }
      ]
    },
    {
      "cell_type": "markdown",
      "source": [
        "## Evaluate Keras Model\n",
        "\n",
        "Una vez entrenada nuestra red neuronal en todo el conjunto de datos y podemos evaluar el rendimiento de la red en el mismo conjunto de datos.\n",
        "\n",
        "Esto nos dará una idea de qué tan bien ha modelado el conjunto de datos, pero no da idea de qué tan bien podría funcionar el algoritmo con datos nuevos.\n",
        "\n",
        "**Esto se hizo por simplicidad, pero lo ideal sería separar los datos en conjuntos de datos de entrenamiento y prueba para entrenar y evaluar su modelo.**\n",
        "\n",
        "Podemos evaluar el modelo en el conjunto de datos de entrenamiento usando la función evaluate() y pasarle la misma entrada y salida utilizada para entrenar el modelo.\n",
        "\n",
        "Esto generará una predicción para cada par de entrada y salida y recopilará puntuaciones, incluida la pérdida promedio y cualquier métrica que haya configurado, como la precisión.\n",
        "\n",
        "La función evaluate() devolverá una lista con dos valores. El primero será la pérdida del modelo en el conjunto de datos y el segundo será la precisión del modelo en el conjunto de datos. Habitualmente sólo interesa informar la precisión, así que podemos ignorar el valor de la pérdida."
      ],
      "metadata": {
        "id": "a6ehamezl_7x"
      },
      "id": "a6ehamezl_7x"
    },
    {
      "cell_type": "code",
      "source": [
        "# evaluate the keras model\n",
        "_, accuracy = model.evaluate(X, y)\n",
        "print('Accuracy: %.2f' % (accuracy*100))"
      ],
      "metadata": {
        "colab": {
          "base_uri": "https://localhost:8080/"
        },
        "id": "nqS7c_Vgec-k",
        "outputId": "374bb454-efc3-4a05-adc4-e99612405972"
      },
      "id": "nqS7c_Vgec-k",
      "execution_count": 23,
      "outputs": [
        {
          "output_type": "stream",
          "name": "stdout",
          "text": [
            "24/24 [==============================] - 0s 2ms/step - loss: 0.4432 - accuracy: 0.7878\n",
            "Accuracy: 78.78\n"
          ]
        }
      ]
    },
    {
      "cell_type": "markdown",
      "source": [
        "## Nota importante:\n",
        "\n",
        "Si intenta ejecutar este ejemplo en una computadora portátil IPython o Jupyter, es posible que obtenga un error.\n",
        "\n",
        "El motivo son las barras de progreso de salida durante el entrenamiento. Puede desactivarlos fácilmente configurando verbose=0 en la llamada a las funciones fit() y evalua(); Por ejemplo:"
      ],
      "metadata": {
        "id": "tJ59iDhcnc3t"
      },
      "id": "tJ59iDhcnc3t"
    },
    {
      "cell_type": "code",
      "source": [
        "# fit the keras model on the dataset without progress bars\n",
        "model.fit(X, y, epochs=150, batch_size=10, verbose=0)\n",
        "# evaluate the keras model\n",
        "_, accuracy = model.evaluate(X, y, verbose=0)"
      ],
      "metadata": {
        "id": "PGY2wtI4edBL"
      },
      "id": "PGY2wtI4edBL",
      "execution_count": 24,
      "outputs": []
    },
    {
      "cell_type": "markdown",
      "source": [
        "## Make Predictions"
      ],
      "metadata": {
        "id": "uhofO3HxoFiW"
      },
      "id": "uhofO3HxoFiW"
    },
    {
      "cell_type": "code",
      "source": [
        "# make probability predictions with the model\n",
        "predictions = model.predict(X)\n",
        "\n",
        "predictions[:10]"
      ],
      "metadata": {
        "colab": {
          "base_uri": "https://localhost:8080/"
        },
        "id": "U3ko0zahedDy",
        "outputId": "f71ff0b2-6f0d-42a0-c41a-b98096f9cf34"
      },
      "id": "U3ko0zahedDy",
      "execution_count": 25,
      "outputs": [
        {
          "output_type": "stream",
          "name": "stdout",
          "text": [
            "24/24 [==============================] - 0s 1ms/step\n"
          ]
        },
        {
          "output_type": "execute_result",
          "data": {
            "text/plain": [
              "array([[0.7639049 ],\n",
              "       [0.0568836 ],\n",
              "       [0.8546187 ],\n",
              "       [0.07109281],\n",
              "       [0.8026436 ],\n",
              "       [0.04720625],\n",
              "       [0.11006504],\n",
              "       [0.51682436],\n",
              "       [0.94246167],\n",
              "       [0.82727355]], dtype=float32)"
            ]
          },
          "metadata": {},
          "execution_count": 25
        }
      ]
    },
    {
      "cell_type": "code",
      "source": [
        "# round predictions\n",
        "rounded = [round(x[0]) for x in predictions]\n",
        "\n",
        "rounded[:10]"
      ],
      "metadata": {
        "colab": {
          "base_uri": "https://localhost:8080/"
        },
        "id": "cbYFLYlwojl8",
        "outputId": "be9720f9-6e04-4271-ed6f-02e471f4df51"
      },
      "id": "cbYFLYlwojl8",
      "execution_count": 26,
      "outputs": [
        {
          "output_type": "execute_result",
          "data": {
            "text/plain": [
              "[1, 0, 1, 0, 1, 0, 0, 1, 1, 1]"
            ]
          },
          "metadata": {},
          "execution_count": 26
        }
      ]
    },
    {
      "cell_type": "code",
      "source": [
        "# Alternately, you can convert the probability into 0 or 1 to predict crisp classes directly; for example:\n",
        "\n",
        "# make class predictions with the model\n",
        "predictions = (model.predict(X) > 0.5).astype(int)\n",
        "\n",
        "predictions[:10]"
      ],
      "metadata": {
        "colab": {
          "base_uri": "https://localhost:8080/"
        },
        "id": "mIEMxt2HedGZ",
        "outputId": "16a8962f-99f0-414b-fd11-8b3e11445456"
      },
      "id": "mIEMxt2HedGZ",
      "execution_count": 27,
      "outputs": [
        {
          "output_type": "stream",
          "name": "stdout",
          "text": [
            "24/24 [==============================] - 0s 1ms/step\n"
          ]
        },
        {
          "output_type": "execute_result",
          "data": {
            "text/plain": [
              "array([[1],\n",
              "       [0],\n",
              "       [1],\n",
              "       [0],\n",
              "       [1],\n",
              "       [0],\n",
              "       [0],\n",
              "       [1],\n",
              "       [1],\n",
              "       [1]])"
            ]
          },
          "metadata": {},
          "execution_count": 27
        }
      ]
    },
    {
      "cell_type": "code",
      "source": [],
      "metadata": {
        "id": "j72Cj_khoV2g"
      },
      "id": "j72Cj_khoV2g",
      "execution_count": 27,
      "outputs": []
    },
    {
      "cell_type": "code",
      "source": [],
      "metadata": {
        "id": "mD0wprMLoV5X"
      },
      "id": "mD0wprMLoV5X",
      "execution_count": 27,
      "outputs": []
    }
  ],
  "metadata": {
    "kernelspec": {
      "display_name": "Python 3 (ipykernel)",
      "language": "python",
      "name": "python3"
    },
    "language_info": {
      "codemirror_mode": {
        "name": "ipython",
        "version": 3
      },
      "file_extension": ".py",
      "mimetype": "text/x-python",
      "name": "python",
      "nbconvert_exporter": "python",
      "pygments_lexer": "ipython3",
      "version": "3.10.14"
    },
    "papermill": {
      "default_parameters": {},
      "duration": 1666.680651,
      "end_time": "2023-03-16T00:12:37.486600",
      "environment_variables": {},
      "exception": null,
      "input_path": "__notebook__.ipynb",
      "output_path": "__notebook__.ipynb",
      "parameters": {},
      "start_time": "2023-03-15T23:44:50.805949",
      "version": "2.3.4"
    },
    "colab": {
      "provenance": []
    }
  },
  "nbformat": 4,
  "nbformat_minor": 5
}